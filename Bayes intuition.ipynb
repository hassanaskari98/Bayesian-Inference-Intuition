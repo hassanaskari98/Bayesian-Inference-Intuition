{
 "cells": [
  {
   "cell_type": "markdown",
   "metadata": {},
   "source": [
    "#  Intuition behind Bayesian inference"
   ]
  },
  {
   "cell_type": "markdown",
   "metadata": {},
   "source": [
    "<br><br>The goal of this notebook is to provide an intuitive explanation of Bayesian inference with the aid of both theoretical description and simulations. Let's write down directly the Bayes formula."
   ]
  },
  {
   "cell_type": "markdown",
   "metadata": {},
   "source": [
    "$$ P(\\theta \\mid X) = \\frac{P(X \\mid \\theta) \\, P(\\theta)}{P(X)} $$"
   ]
  },
  {
   "cell_type": "markdown",
   "metadata": {},
   "source": [
    "***"
   ]
  },
  {
   "cell_type": "markdown",
   "metadata": {},
   "source": [
    "The Bayes formula is made up of of four components as follows."
   ]
  },
  {
   "cell_type": "markdown",
   "metadata": {},
   "source": [
    "- $\n",
    "P(\\theta \\mid X):\n",
    "$ Postrior, which is the probability of parameters $ \\theta $ given the observation $ X$\n",
    "\n",
    "- $\n",
    "P(\\theta):\n",
    "$ Prior, which is the prior probability (initial belief) of parameters $ \\theta $\n",
    "\n",
    "- $\n",
    "P(X \\mid \\theta):\n",
    "$ Likelihood, which is the probability of obsevation $X$ given parameter $\\theta$.\n",
    "\n",
    "- $\n",
    "P(X):\n",
    "$ Evidence, which is the probability of obsevation $X$.\n"
   ]
  },
  {
   "cell_type": "markdown",
   "metadata": {},
   "source": [
    "In other words, it can be written as follows."
   ]
  },
  {
   "cell_type": "markdown",
   "metadata": {},
   "source": [
    "$$\n",
    "\\begin{align*}\n",
    "Postrior = \\frac{Likelihood \\times Prior}{Evidence}\n",
    "\\end{align*}\n",
    "$$"
   ]
  },
  {
   "cell_type": "markdown",
   "metadata": {},
   "source": [
    "<p style=\"text-align: justify\"> A critical fact to understand is that both posterior and prior calculate the probability of same thing ($\\theta$). However, prior is the probability without observation, while posterior is the probability after observation. So, posterior can be interpreted as an update to the probability of $\\theta$ (prior) and this update is done using the following coefficient.</p>"
   ]
  },
  {
   "cell_type": "markdown",
   "metadata": {},
   "source": [
    "$$  \\frac{P(X \\mid \\theta))}{P(X)} $$"
   ]
  },
  {
   "cell_type": "markdown",
   "metadata": {},
   "source": [
    "<p style='text-align: justify'>Also, note that after updating the prior with a new observation, the posterior can be the prior for the next round. Therefore, this update can be continued recursively as far as new evidences arrive.</p>"
   ]
  },
  {
   "cell_type": "markdown",
   "metadata": {},
   "source": [
    "____"
   ]
  },
  {
   "cell_type": "markdown",
   "metadata": {},
   "source": [
    "To better understand the concept let's consider the following example.\n",
    "\n",
    "<p style='text-align:justify'><p style='color:red'> Example:<p> Imagine we have a random sample of 10 persons and in that sample we count the number of persons who use an specific mobile application. Now we need to figure out which distribution is appropriate to model this likelihood. First, notice that the the outcome is discrete since the it is a count variable. Second, the sample size is fixed which follows automatically from the way the example is defined. Then, we need to have two assumptions. The first assumption is that if one person uses the app is independent from the fact that another person uses the app. This is a fairly reasonable assumptions if the people in the sample do not know each other. The second assumption is that the people in the sample are identically distributed. In other words, the chance that a person uses the app is the same as the chance that another person uses the app.</p>\n",
    "\n",
    "With reference to the above description, a <font color='blue'>binomial</font> distribution would be appropriate candidate to model this likelihood. In the following code, I am going to illustrate the core concept for Bayesian inference,updating prior using new evidences.\n"
   ]
  },
  {
   "cell_type": "code",
   "execution_count": 17,
   "metadata": {},
   "outputs": [],
   "source": [
    "from __future__ import print_function\n",
    "from ipywidgets import interact, interactive\n",
    "import ipywidgets as widgets"
   ]
  },
  {
   "cell_type": "code",
   "execution_count": 18,
   "metadata": {},
   "outputs": [],
   "source": [
    "import numpy as np\n",
    "from scipy.stats import binom,randint\n",
    "import matplotlib.pyplot as plt\n",
    "%matplotlib inline"
   ]
  },
  {
   "cell_type": "markdown",
   "metadata": {},
   "source": [
    "<p style='text-align:justify'> To create prior distribution we need to have a range of values for the distribution's parameter. In our example, the parameter can take any integer value from 0 to 10 because it is a count variable and sample size in chosen to be 10. However, since the \"stats\" library of of scipy requires the parameter to be a real number between 0 and 1, we generate parameters to be in [0,1] range. So, for example if we choose theta=0.1 and n=10 it means that one out of 10 people uses the app. Nonetheless, for the sake of illustration__ to plot more smooth curve__ the parameters are chosen to be more fine-grained in [0,1] instead of forcing to only use multiplication of 0.1.</p>"
   ]
  },
  {
   "cell_type": "code",
   "execution_count": 19,
   "metadata": {},
   "outputs": [],
   "source": [
    "n = 10\n",
    "params = np.linspace(0,1,100)"
   ]
  },
  {
   "cell_type": "markdown",
   "metadata": {},
   "source": [
    "<p style='text-align:justify'>First, let's generate a uniform prior distribution so that we can see the effect of likelihood on posterior vividly. To do this we can simply repeat a constant to get the same length as the length of params and then divide by its sum to get a proper distribution (sum to one). However, a more principled approach that can be used for any distribution is to generate samples based on the distribution and then at every parameter value multiply the probability of all samples to get the probability at that parameter value as follows.</>"
   ]
  },
  {
   "cell_type": "code",
   "execution_count": 20,
   "metadata": {},
   "outputs": [],
   "source": [
    "n_samples = 20\n",
    "prior_samples = np.random.randint(0,n+1,n_samples)"
   ]
  },
  {
   "cell_type": "code",
   "execution_count": 21,
   "metadata": {},
   "outputs": [],
   "source": [
    "prior = [ np.product(randint(0,n+1).pmf(prior_samples)) for theta in params ]\n",
    "prior = prior/np.sum(prior)"
   ]
  },
  {
   "cell_type": "code",
   "execution_count": 22,
   "metadata": {},
   "outputs": [
    {
     "data": {
      "text/plain": [
       "[<matplotlib.lines.Line2D at 0x7f7c21f962b0>]"
      ]
     },
     "execution_count": 22,
     "metadata": {},
     "output_type": "execute_result"
    },
    {
     "data": {
      "image/png": "[encoded data removed]",
      "text/plain": [
       "<Figure size 432x288 with 1 Axes>"
      ]
     },
     "metadata": {},
     "output_type": "display_data"
    }
   ],
   "source": [
    "plt.plot(params,prior)"
   ]
  },
  {
   "cell_type": "markdown",
   "metadata": {},
   "source": [
    "Now, it is time to generate samples based on likelihood distribution which is chosen to be binomial. "
   ]
  },
  {
   "cell_type": "code",
   "execution_count": 23,
   "metadata": {},
   "outputs": [],
   "source": [
    "true_theta = 0.8\n",
    "samples_lk = np.random.binomial(n,true_theta,n_samples)\n",
    "likelihood = [ np.product(binom(n,theta).pmf(samples_lk)) for theta in params ]"
   ]
  },
  {
   "cell_type": "markdown",
   "metadata": {},
   "source": [
    "\"true_theta\" is the true parameters that we want to estimate. So, we need to generate samples base on it. Also, note that likelihood is not a distribution; therefore, it is not needed to be normalized."
   ]
  },
  {
   "cell_type": "code",
   "execution_count": 24,
   "metadata": {},
   "outputs": [
    {
     "data": {
      "text/plain": [
       "[<matplotlib.lines.Line2D at 0x7f7c21f6c438>]"
      ]
     },
     "execution_count": 24,
     "metadata": {},
     "output_type": "execute_result"
    },
    {
     "data": {
      "image/png": "[encoded data removed]",
      "text/plain": [
       "<Figure size 432x288 with 1 Axes>"
      ]
     },
     "metadata": {},
     "output_type": "display_data"
    }
   ],
   "source": [
    "plt.plot(params,likelihood)"
   ]
  },
  {
   "cell_type": "markdown",
   "metadata": {},
   "source": [
    "<p style='text-align:justify'>Now, let's calculate the posterior from prior and likelihood using Bayes rule. Note that in this case we do not have to calculate p(x) (denominator of the Bayes formula) since we can calculate the product of likelihood and prior for all parameter values and then normalize by dividing by its sum.</p>"
   ]
  },
  {
   "cell_type": "code",
   "execution_count": 25,
   "metadata": {},
   "outputs": [],
   "source": [
    "postrior = [prior[i]*likelihood[i] for i in range(len(prior))]\n",
    "postrior /= np.sum(postrior)"
   ]
  },
  {
   "cell_type": "code",
   "execution_count": 26,
   "metadata": {},
   "outputs": [
    {
     "data": {
      "text/plain": [
       "[<matplotlib.lines.Line2D at 0x7f7c21f405f8>]"
      ]
     },
     "execution_count": 26,
     "metadata": {},
     "output_type": "execute_result"
    },
    {
     "data": {
      "image/png": "[encoded data removed]",
      "text/plain": [
       "<Figure size 432x288 with 1 Axes>"
      ]
     },
     "metadata": {},
     "output_type": "display_data"
    }
   ],
   "source": [
    "plt.plot(params,postrior)"
   ]
  },
  {
   "cell_type": "markdown",
   "metadata": {},
   "source": [
    "Interesting! Posterior peaks exactly at where likelihood peaks. The reason is that because the prior is uniform, the posterior must follow what likelihood dictates. In other words, since we do not have any prejudice, only the data dictates what the posterior must be."
   ]
  },
  {
   "cell_type": "markdown",
   "metadata": {},
   "source": [
    "It is also worth to look at the effect of number of samples. In the previous example n_samples=20. Now let's increase it to 200. "
   ]
  },
  {
   "cell_type": "code",
   "execution_count": 27,
   "metadata": {},
   "outputs": [
    {
     "data": {
      "text/plain": [
       "Text(0.5,1,'Postrior Distribution')"
      ]
     },
     "execution_count": 27,
     "metadata": {},
     "output_type": "execute_result"
    },
    {
     "data": {
      "image/png": "[encoded data removed]",
      "text/plain": [
       "<Figure size 576x576 with 3 Axes>"
      ]
     },
     "metadata": {},
     "output_type": "display_data"
    }
   ],
   "source": [
    "n_samples = 200\n",
    "prior_samples = np.random.randint(0,n+1,n_samples)\n",
    "prior = [ np.product(randint(0,n+1).pmf(prior_samples)) for theta in params ]\n",
    "prior = prior/np.sum(prior)\n",
    "true_theta = 0.8\n",
    "samples_lk = np.random.binomial(n,true_theta,n_samples)\n",
    "likelihood = [ np.product(binom(n,theta).pmf(samples_lk)) for theta in params ]\n",
    "postrior = [prior[i]*likelihood[i] for i in range(len(prior))]\n",
    "postrior /= np.sum(postrior)\n",
    "\n",
    "fix,axes = plt.subplots(3,1,sharex=True,figsize=(8,8))\n",
    "\n",
    "axes[0].plot(params,prior,'b')\n",
    "axes[0].set_title(\"Prior Distribution\")\n",
    "axes[1].plot(params,likelihood/np.sum(likelihood),'r')\n",
    "axes[1].set_title(\"Likelihood\")\n",
    "axes[2].plot(params,postrior,'g')\n",
    "axes[2].set_title(\"Postrior Distribution\")"
   ]
  },
  {
   "cell_type": "markdown",
   "metadata": {},
   "source": [
    "Fantastic! As the number of samples grow the likelihood and distributions narow down. The intuition is that more data makes them more confident about the actual parameter value. "
   ]
  },
  {
   "cell_type": "markdown",
   "metadata": {},
   "source": [
    "Now, it is time to put everything together in an interactive code block so that you can change the value of <font color='blue'>true_theta</font> and <font color='blue'>n_samples</font> interactively and see the effet."
   ]
  },
  {
   "cell_type": "code",
   "execution_count": 28,
   "metadata": {},
   "outputs": [],
   "source": [
    "def BayesRule(n_samples=6,true_theta=.5):\n",
    "\n",
    "    prior_samples = np.random.randint(0,n+1,n_samples)\n",
    "    prior = [ np.product(randint(0,n+1).pmf(prior_samples)) for theta in params ]\n",
    "    prior = prior/np.sum(prior)\n",
    "    samples_lk = np.random.binomial(n,true_theta,n_samples)\n",
    "    likelihood = [ np.product(binom(n,theta).pmf(samples_lk)) for theta in params ]\n",
    "    postrior = [prior[i]*likelihood[i] for i in range(len(prior))]\n",
    "    postrior /= np.sum(postrior)\n",
    "\n",
    "    fix,axes = plt.subplots(3,1,sharex=True,figsize=(8,8))\n",
    "\n",
    "    axes[0].plot(params,prior,'b')\n",
    "    axes[0].set_title(\"Prior Distribution\")\n",
    "    axes[1].plot(params,likelihood/np.sum(likelihood),'r')\n",
    "    axes[1].set_title(\"Likelihood\")\n",
    "    axes[2].plot(params,postrior,'g')\n",
    "    axes[2].set_title(\"Postrior Distribution\")"
   ]
  },
  {
   "cell_type": "code",
   "execution_count": 29,
   "metadata": {},
   "outputs": [
    {
     "name": "stdout",
     "output_type": "stream",
     "text": [
      "(IntSlider(value=6, description='n_samples', max=30, min=1, step=5), FloatSlider(value=0.5, description='true_theta', max=1.0), Output())\n"
     ]
    },
    {
     "data": {
      "application/vnd.jupyter.widget-view+json": {
       "model_id": "6e312147344444ebbb7bce3c6c2a65f8",
       "version_major": 2,
       "version_minor": 0
      },
      "text/plain": [
       "interactive(children=(IntSlider(value=6, description='n_samples', max=30, min=1, step=5), FloatSlider(value=0.…"
      ]
     },
     "metadata": {},
     "output_type": "display_data"
    }
   ],
   "source": [
    "interactive_plot = interactive(BayesRule,n_samples=(1,30,5),true_theta=(0,1,.1))\n",
    "print(interactive_plot.children)\n",
    "output = interactive_plot.children[-1]\n",
    "interactive_plot"
   ]
  },
  {
   "cell_type": "markdown",
   "metadata": {},
   "source": [
    "Now, let's change prior from uniform to binomial so that we can get a sense of the prior effect as well. "
   ]
  },
  {
   "cell_type": "code",
   "execution_count": 30,
   "metadata": {},
   "outputs": [
    {
     "data": {
      "text/plain": [
       "Text(0.5,1,'Postrior Distribution')"
      ]
     },
     "execution_count": 30,
     "metadata": {},
     "output_type": "execute_result"
    },
    {
     "data": {
      "image/png": "[encoded data removed]",
      "text/plain": [
       "<Figure size 576x576 with 3 Axes>"
      ]
     },
     "metadata": {},
     "output_type": "display_data"
    }
   ],
   "source": [
    "n_samples = 50\n",
    "prior_theta = 0.2\n",
    "prior_samples = np.random.binomial(n,prior_theta,n_samples)\n",
    "prior = [ np.product(binom(n,theta).pmf(prior_samples)) for theta in params ]\n",
    "prior = prior/np.sum(prior)\n",
    "prior = prior/np.sum(prior)\n",
    "true_theta = 0.8\n",
    "samples_lk = np.random.binomial(n,true_theta,n_samples)\n",
    "likelihood = [ np.product(binom(n,theta).pmf(samples_lk)) for theta in params ]\n",
    "postrior = [prior[i]*likelihood[i] for i in range(len(prior))]\n",
    "postrior /= np.sum(postrior)\n",
    "\n",
    "fix,axes = plt.subplots(3,1,sharex=True,figsize=(8,8))\n",
    "\n",
    "axes[0].plot(params,prior,'b')\n",
    "axes[0].set_title(\"Prior Distribution\")\n",
    "axes[1].plot(params,likelihood/np.sum(likelihood),'r')\n",
    "axes[1].set_title(\"Likelihood\")\n",
    "axes[2].plot(params,postrior,'g')\n",
    "axes[2].set_title(\"Postrior Distribution\")"
   ]
  },
  {
   "cell_type": "markdown",
   "metadata": {},
   "source": [
    "<p style='text-align:justify'> Great! Prior's parameter is chosen to be 0.2. It means that we belive 2 out ot 10 people use the app. But, samples (red plot) show something different. It is saying that based on the data 8 of 10 people use the app. Look at postrior! It is an updated verson of prior by the force of data (likelihood). It lies between prior and likelihood.</>"
   ]
  },
  {
   "cell_type": "markdown",
   "metadata": {},
   "source": [
    "The following is an interactive code block so that you can see the effect of three parameters:\n",
    "- Prior's parameter (prior_theta)\n",
    "- likelihood parameter (true_theta)\n",
    "- n_samples"
   ]
  },
  {
   "cell_type": "code",
   "execution_count": 31,
   "metadata": {},
   "outputs": [],
   "source": [
    "def BayesRule(n_samples=20,true_theta=0.8,prior_theta=0.2):\n",
    "\n",
    "    prior_samples = np.random.binomial(n,prior_theta,n_samples)\n",
    "    prior = [ np.product(binom(n,theta).pmf(prior_samples)) for theta in params ]\n",
    "    prior = prior/np.sum(prior)\n",
    "    samples_lk = np.random.binomial(n,true_theta,n_samples)\n",
    "    likelihood = [ np.product(binom(n,theta).pmf(samples_lk)) for theta in params ]\n",
    "    postrior = [prior[i]*likelihood[i] for i in range(len(prior))]\n",
    "    postrior /= np.sum(postrior)\n",
    "\n",
    "    fix,axes = plt.subplots(3,1,sharex=True,figsize=(8,8))\n",
    "\n",
    "    axes[0].plot(params,prior,'b')\n",
    "    axes[0].set_title(\"Prior Distribution\")\n",
    "    axes[1].plot(params,likelihood/np.sum(likelihood),'r')\n",
    "    axes[1].set_title(\"Likelihood\")\n",
    "    axes[2].plot(params,postrior,'g')\n",
    "    axes[2].set_title(\"Postrior Distribution\")"
   ]
  },
  {
   "cell_type": "code",
   "execution_count": 32,
   "metadata": {},
   "outputs": [
    {
     "name": "stdout",
     "output_type": "stream",
     "text": [
      "(IntSlider(value=20, description='n_samples', max=30, min=1, step=5), FloatSlider(value=0.8, description='true_theta', max=1.0), FloatSlider(value=0.2, description='prior_theta', max=1.0), Output())\n"
     ]
    },
    {
     "data": {
      "application/vnd.jupyter.widget-view+json": {
       "model_id": "66ab97191f7b4c6cae3237479eeb336f",
       "version_major": 2,
       "version_minor": 0
      },
      "text/plain": [
       "interactive(children=(IntSlider(value=20, description='n_samples', max=30, min=1, step=5), FloatSlider(value=0…"
      ]
     },
     "metadata": {},
     "output_type": "display_data"
    }
   ],
   "source": [
    "interactive_plot = interactive(BayesRule,n_samples=(1,30,5),true_theta=(0,1,.1),prior_theta=(0,1,0.1))\n",
    "print(interactive_plot.children)\n",
    "output = interactive_plot.children[-1]\n",
    "interactive_plot"
   ]
  },
  {
   "cell_type": "code",
   "execution_count": null,
   "metadata": {},
   "outputs": [],
   "source": []
  }
 ],
 "metadata": {
  "kernelspec": {
   "display_name": "jupyter-python3",
   "language": "python",
   "name": "jupyter-python3"
  },
  "language_info": {
   "codemirror_mode": {
    "name": "ipython",
    "version": 3
   },
   "file_extension": ".py",
   "mimetype": "text/x-python",
   "name": "python",
   "nbconvert_exporter": "python",
   "pygments_lexer": "ipython3",
   "version": "3.6.5"
  },
  "widgets": {
   "application/vnd.jupyter.widget-state+json": {
    "state": {
     "0969da8e345c4785809a7ad86720f556": {
      "model_module": "@jupyter-widgets/base",
      "model_module_version": "1.0.0",
      "model_name": "LayoutModel",
      "state": {}
     },
     "1d419963cf1848dcb14c7ea841d22d14": {
      "model_module": "@jupyter-widgets/base",
      "model_module_version": "1.0.0",
      "model_name": "LayoutModel",
      "state": {}
     },
     "2ed5ea3919124e458ea3e253484cc445": {
      "model_module": "@jupyter-widgets/controls",
      "model_module_version": "1.2.0",
      "model_name": "FloatSliderModel",
      "state": {
       "description": "true_theta",
       "layout": "IPY_MODEL_1d419963cf1848dcb14c7ea841d22d14",
       "max": 1,
       "step": 0.1,
       "style": "IPY_MODEL_66e4c79641ec41b098b801b53c447e4f",
       "value": 0.8
      }
     },
     "32e9316b3e7a4db58587d98343967466": {
      "model_module": "@jupyter-widgets/controls",
      "model_module_version": "1.2.0",
      "model_name": "FloatSliderModel",
      "state": {
       "description": "true_theta",
       "layout": "IPY_MODEL_a9d2e25d057244e389106d45235b3c0d",
       "max": 1,
       "step": 0.1,
       "style": "IPY_MODEL_d42d395f3a35400995250f56a7ad5aa4",
       "value": 0.5
      }
     },
     "38cbdfcdca254ec9a5d1e37a9892ce47": {
      "model_module": "@jupyter-widgets/controls",
      "model_module_version": "1.2.0",
      "model_name": "SliderStyleModel",
      "state": {
       "description_width": ""
      }
     },
     "48f2a471ccdb4d4cb9285620b0be55c0": {
      "model_module": "@jupyter-widgets/base",
      "model_module_version": "1.0.0",
      "model_name": "LayoutModel",
      "state": {}
     },
     "4b3760314aa54bb585e02285d27ac300": {
      "model_module": "@jupyter-widgets/base",
      "model_module_version": "1.0.0",
      "model_name": "LayoutModel",
      "state": {}
     },
     "66e4c79641ec41b098b801b53c447e4f": {
      "model_module": "@jupyter-widgets/controls",
      "model_module_version": "1.2.0",
      "model_name": "SliderStyleModel",
      "state": {
       "description_width": ""
      }
     },
     "7bad320967964183b307b38ba7102331": {
      "model_module": "@jupyter-widgets/controls",
      "model_module_version": "1.2.0",
      "model_name": "VBoxModel",
      "state": {
       "_dom_classes": [
        "widget-interact"
       ],
       "children": [
        "IPY_MODEL_9e478cbef7f04b088ff6ae5b7ad1331c",
        "IPY_MODEL_32e9316b3e7a4db58587d98343967466",
        "IPY_MODEL_a330eeae5cee46789ca9a13b82f7ce25"
       ],
       "layout": "IPY_MODEL_d391f68c4187434bb314d46b3477b153"
      }
     },
     "8bbbb483b93f4d5898040899fed0f254": {
      "model_module": "@jupyter-widgets/output",
      "model_module_version": "1.0.0",
      "model_name": "OutputModel",
      "state": {
       "layout": "IPY_MODEL_8bd862324279453e87327991614d1b10",
       "outputs": [
        {
         "data": {
          "image/png": "iVBORw0KGgoAAAANSUhEUgAAAe0AAAHiCAYAAADF4pQuAAAABHNCSVQICAgIfAhkiAAAAAlwSFlzAAALEgAACxIB0t1+/AAAADl0RVh0U29mdHdhcmUAbWF0cGxvdGxpYiB2ZXJzaW9uIDIuMi4yLCBodHRwOi8vbWF0cGxvdGxpYi5vcmcvhp/UCwAAIABJREFUeJzs3Xt8VeWd7/HPLwlXAYUQlVsMEMJFsBUDtfVStRfxbkc71Wk7ttqxzoz2zLR9tU5rrWOPrZ2eM51zWntap7Xt2Fp1xCqtWGvVKloVAqISkBBAIaASCSggCEl+549nbdlsErKTfVnZe3/fr9d+7Z11/WX7km+eZz3rWebuiIiISP9XFncBIiIikh6FtoiISIFQaIuIiBQIhbaIiEiBUGiLiIgUCIW2iIhIgVBoi8TAzB40s8vyfM6dZjYpS8f6mpn9NPpcY2ZuZhVZOnZ1VGt5No4nUkxM92mLZM7MXgaOAjqAXcBC4Bp335mHc58GPAq8HS3aDvwF+J67L+nDsX7l7uN7sU8NsB4Y4O7tvTlftP/LwOfc/U+93Vek1KilLZI957n7MGA2MAe4LnUDC/r8/90hWrObo3MPB04EXgIWmdmH+nquPtQgIjmm0BbJMnffBDwIzAQwsz+b2U1m9hShNTwpWva5aH2ZmV1nZq+Y2RYz+y8zOzxal+h6vsLMNhBa1Ic6t7t7i7tfD/wU+G5iXXSc2ujz2Wa20sx2mNkmM/uymR0W1T026p7eaWZjzewGM7vHzH5lZm8Bn4mW/Srl9Jeb2WYze9XMvpR03l+Y2f9M+vk0M2uJPt8OVAO/i873ldTu9qiGBWbWZmbNZvZ3Sce6wczujr6zHWbWaGb1vfjPJVJQFNoiWWZmE4CzgeeSFn8auJLQEn4lZZfPRK/TgUnAMOCHKdt8EJgOnNmLUu4FZkdhnOpnwOfdfTjhj4tH3X0XcBZRqz16bY62vwC4BzgC+HU35zsdmAJ8FLjWzD7cU4Hu/mlgA1Evhbv/Wxeb/QZoAcYCFwPfTulBOB+4M6ptAQd/dyJFQ6Etkj33mdl24EngceDbSet+4e6N7t7u7vtS9vsk8O/uvi66Bv4vwCUp3dA3uPsud9/di3o2A0YIs1T7gBlmNsLdt7n7sh6O9bS73+funYeo4V+jGl8Efg5c2otauxT9AXQy8FV33+Puywk9CJ9O2uxJd1/o7h3A7cB7Mj2vSH+l0BbJngvd/Qh3P8bd/yEl3DYeYr+xHNj6fgWoIAxsS2f/7owDnDAwLdVFhN6AV8zscTN7fw/HSuf8ydu8Qvi9MjUWaHP3HSnHHpf082tJn98GBuu6uxQrhbZIfhzqNo3NwDFJP1cD7cDrae7fnY8By6Ju7wOLcV/i7hcARwL3AXf3cJ50zj8h6XM14feCMJp+aNK6o3tx7M3AKDMbnnLsTWnUI1J0FNoi8fsN8M9mNtHMhhG61e/q4+1TZmbjzOybwOeAr3WxzUAz+6SZHR511b9FuFUNwh8KlYmBcL30DTMbambHAp8F7oqWLwfONrNRZnY08E8p+71OuJZ/EHffSLh97TtmNtjMjgOuoPvr6iJFTaEtEr/bCNdinyDc77wHuKaXxxhrZjuBncASYBZwmrv/sZvtPw28HI0Gvwr4FIC7v0T4I2KdmW03s950cT8ONAOPAP8r6dy3A88DLwN/ZH+YJ3wHuC4635e7OO6lQA2h1f1b4Jvu/nAv6hIpGppcRUREpECopS0iIlIgFNoiIiIFQqEtIiJSIBTaIiIiBSKt0DazeWa2Opr399ou1p9qZsvMrN3MLk5Z12Fmy6PXgmwVLiIiUmp6HD0ePdO2CfgIYf7fJcCl7r4yaZsaYATwZWCBu9+TtG5n9PShtIwePdpramrS/w1EREQK3NKlS99w96qetktnqr+5QLO7rwMwszsJDw94N7Td/eVoXWefqk1SU1NDQ0NDpocREREpGGaW+iChLqXTPT6OA+cUbuHAeX97MtjMGszsGTO7sBf7iYiISJJ0WtrWxbLezMhS7e6bzWwS8KiZvejuaw84gdmVhMcWUl1d3YtDi4iIlI50WtotHPgggPHsfxBAjxLP44261/8MHN/FNre6e72711dV9dilLyIiUpLSCe0lwJToYQYDgUsID5rvkZmNNLNB0efRwEkkXQuX/mH1ahgzBq67DvbujbsaERHpTo+hHT1p6GrgIWAVcLe7N5rZjWZ2PoCZzTGzFuDjwE/MrDHafTrQYGbPA48BNyePOpf+4fbb4bXX4Kab4H3vgxUr4q5IRES60u8eGFJfX+8aPZ5f06fD2LFwzTXw+c/D9u3wrW/Bl78MZZp+R0Qk58xsqbvX97Sd/kkucStXwksvwUUXwYUXhlb2uefCV78Kv9YTi0VE+hWFdombPx/M4GMfCz9XVcE998DRR8Mf/hBvbSIiciCFdombPx8+8IEwEC3BDE4/HR59FPrZ1RMRkZKm0C5hzc3w/POhazzV6aeHwWmrV+e/LhER6ZpCu4TNnx/euwttgMcey189IiJyaArtEjZ/PsyZA11NQjd5MkyYELrIRUSkf1Bol6gNG2DJkq5b2bD/uvaf/wydGT8GRkREskGhXaLuvTe8dxfaAGecAW+8AY2N3W8jIiL5o9AuUfPnw3HHQW1t99skrmuri1xEpH9QaJegV1+Fp56Ciy8+9HbV1TBpkgajiYj0FwrtEvTII+H+6/PP73nbM86Axx+Hjo7c1yUiIoem0C5BK1bAgAEwY0bP255+epiLfPny3NclIiKHptAuQY2NMHVqCO6e6H5tEZH+Q6Fdghob4dhj09t2zBiYNk2D0URE+gOFdonZuRPWr08/tCFc1160CPbty11dIiLSM4V2iVm1KrzPnJn+PqefHsJ+6dLc1CQiIulRaJeYxEQpvWlpn3ZaeH/88ayXIyIivaDQLjGNjTBoUJhbPF2jR8Mxx4QngomISHwU2iWmsTEMLCsv791+s2bBiy/mpiYREUmPQrvE9GbkeLJZs+Cll2Dv3uzXJCIi6VFol5C33gpP9+pLaB93HLS3h+AWEZF4KLRLyMqV4b2vLW1QF7mISJwU2iWkLyPHE+rqwgxqCm0RkfgotEtIYyMMGQITJ/Z+38Rc5S+8kP26REQkPQrtEtLYCNOn937keIJGkIuIxEuhXUL6OnI8YdYsaGmBbduyV5OIiKRPoV0itm+HTZsyC+3jjgvvam2LiMRDoV0iMhmElqAR5CIi8VJol4hshPbYsTBypEJbRCQuCu0S0dgIQ4eGOcT7yix0kWsEuYhIPBTaJaKxMdyyVZbhf/FZs2DFCujszE5dIiKSvrT+CTezeWa22syazezaLtafambLzKzdzC5OWXeZma2JXpdlq3DpncbG3j1DuzuzZsGOHfDKK5kfS0REeqfH0DazcuAW4CxgBnCpmc1I2WwD8BngjpR9RwHfBN4HzAW+aWYjMy9bemPrVnjttcyuZydoBLmISHzSaWnPBZrdfZ277wXuBC5I3sDdX3b3F4DUTtMzgYfdvc3dtwEPA/OyULf0QjYGoSUkjqHQFhHJv3RCexywMennlmhZOtLa18yuNLMGM2tobW1N89CSrkweFJJq+PAwDaoGo4mI5F86oW1dLPM0j5/Wvu5+q7vXu3t9VVVVmoeWdDU1hTnHx4/PzvGOO04tbRGROKQT2i3AhKSfxwOb0zx+JvtKljQ1wZQpmY8cT5g1Kxxzz57sHE9ERNKTzj/jS4ApZjbRzAYClwAL0jz+Q8BHzWxkNADto9EyyaM1a0JoZ8usWdDRAatWZe+YIiLSsx5D293bgasJYbsKuNvdG83sRjM7H8DM5phZC/Bx4Cdm1hjt2wZ8ixD8S4Abo2WSJ+3tsG5deB52tmgEuYhIPCrS2cjdFwILU5Zdn/R5CaHru6t9bwNuy6BGycDLL4fgzmZLu7YWBg3SYDQRkXzTjGhFbs2a8J7N0K6oCLOrrViRvWOKiEjPFNpFrqkpvGezexzC7GoKbRGR/FJoF7k1a2DECMj2nXSzZoXnc2/blt3jiohI9xTaRa6pKbSyras75jOQmMdcrW0RkfxRaBe5bN/ulTBrVnjXCHIRkfxRaBexPXvC07iyfT0bYNw4OPxwtbRFRPJJoV3E1q0D99y0tM1Ca1stbRGR/FFoF7HE7V65aGnD/hHknu5M9CIikhGFdhFL3O6Vi5Y2hJb29u1hFLmIiOSeQruIrVkTbvU64ojcHF8jyEVE8kuhXcQST/fKlURo67q2iEh+KLSLWK5u90oYNQrGjlVLW0QkXxTaRWrnTti8OXeD0BI0glxEJH8U2kWquTm857KlDaGLfOXK8HxtERHJLYV2kcr17V4Js2bBO+/s/yNBRERyR6FdpBK3e9XW5vY8GkEuIpI/Cu0itWZNmGr0sMNye54ZM8LsaLquLSKSewrtIpXr270ShgwJrXm1tEVEck+hXaTWrMn99ewEjSAXEckPhXYR2rYN3ngjPy1tCNe1m5th9+78nE9EpFQptItQvkaOJ8yaBZ2dsGpVfs4nIlKqFNpFKBHa+Wxpg65ri4jkmkK7CDU1QVkZTJqUn/PV1sKgQbquLSKSawrtItTYuD9I86GiAo49FpYvz8/5RERKlUK7CK1Ysb/LOl/q66GhIVzbFhGR3FBoF5k9e8I17XyH9ty5sH27pjMVEcklhXaReeml0NqNI7QBFi/O73lFREqJQrvIJAaD5Tu0Z8wIU6YuWZLf84qIlBKFdpFZsQIGDsz9g0JSlZfD7NlqaYuI5JJCu8isWAHTpsGAAfk/99y58NxzsHdv/s8tIlIKFNpFJo6R4wlz54Zna+t+bRGR3EgrtM1snpmtNrNmM7u2i/WDzOyuaP2zZlYTLa8xs91mtjx6/Ti75Uuyt96CDRviDW3QdW0RkVzpMbTNrBy4BTgLmAFcamYzUja7Atjm7rXA94HvJq1b6+7vjV5XZalu6UJjY3iPK7SPOQZGj9Z1bRGRXEmnpT0XaHb3de6+F7gTuCBlmwuAX0af7wE+ZGaWvTIlHYm5v+MKbbPQ2lZoi4jkRjqhPQ7YmPRzS7Ssy23cvR14E6iM1k00s+fM7HEzO6WrE5jZlWbWYGYNra2tvfoFZL8VK8JtV8ccE18Nc+fCypWwY0d8NYiIFKt0QrurFrOnuc2rQLW7Hw98EbjDzEYctKH7re5e7+71VVVVaZQkXVmxIswBXhbj8MK5c8Edli2LrwYRkWKVzj/vLcCEpJ/HA5u728bMKoDDgTZ3f8fdtwK4+1JgLZCnpzyXnhUrwrOt4zRnTnhXF7mISPalE9pLgClmNtHMBgKXAAtStlkAXBZ9vhh41N3dzKqigWyY2SRgCrAuO6VLsi1bwiuu69kJo0fDxIkKbRGRXKjoaQN3bzezq4GHgHLgNndvNLMbgQZ3XwD8DLjdzJqBNkKwA5wK3Ghm7UAHcJW7t+XiFyl1cY8cTzZ3Ljz9dNxViIgUnx5DG8DdFwILU5Zdn/R5D/DxLvabD8zPsEZJQ1xzjndlzhy46y54/XU46qi4qxERKR6aEa1IrFgBlZX9IyQ1yYqISG4otItEYvrS/nB3/OzZYQS7rmuLiGSXQrsIuMc753iqww4LtTzzTNyViIgUF4V2Edi4MUxm0l9CG+C00+CJJ2DXrrgrEREpHgrtIhD39KVdOffc8MSvRx+NuxIRkeKh0C4CidA+9th460j2wQ/CsGHw+9/HXYmISPFQaBeB556D8eNh5Mi4K9lv4EA488wQ2p466a2IiPSJQrvAucNjj8Gpp8ZdycHOPRc2b4bly+OuRESkOCi0C1xjY5jE5MMfjruSg511VrgFTV3kIiLZodAucH/6U3j/0IfiraMrRx0VJlpRaIuIZIdCu8A98gjU1kJ1ddyVdO3cc8MkK6+/HnclIiKFT6FdwPbtg8cf759d4wnnnhveFy489HYiItIzhXYBW7IkTKrSH7vGE97zHhg3Tl3kIiLZoNAuYI88EgZ6nX563JV0zyy0tv/4xzDZioiI9J1Cu4A98ggcf3x4uld/du65sHNnmNZURET6TqFdoHbtgr/8pX93jSeccQYMHqwuchGRTCm0C9STT4aBaP15EFrC0KGhznvvDTWLiEjfKLQL1COPhKlCTz457krS8/nPQ0sL3HFH3JWIiBQuhXaB+tOf4AMfCK3YQnDOOXDccfCd70BHR9zViIgUJoV2Adq6NcznXQjXsxPM4Gtfg9Wr4be/jbsaEZHCpNAuQI89Fh4UUkihDXDxxVBXB9/+tp78JSLSFwrtAvTwwzB8OMyZE3clvVNeDtdeGx4l+oc/xF2NiEjhUWgXmC1b4Ne/hvPOg4qKuKvpvU9+EiZMgJtuUmtbRKS3FNoF5uabYfdu+MY34q6kbwYOhK98BZ56ChYtirsaEZHCotAuIC0t8KMfwWWXwbRpcVfTd1dcAUceCTfeqNa2iEhvKLQLyLe+BZ2dcP31cVeSmSFD4OtfD/ea33RT3NWIiBSOArwqWpqam+G22+Cqq6CmJu5qMnfNNdDQELr5a2rgU5+KuyIRkf5PoV0gbrgBBgwILdRiYAY//Wno8r/88jA47YMfjLsqEZH+Td3jBWDFijD95zXXwNFHx11N9gwcCPPnQ20tXHghrFoVd0UiIv2bQruf274drr463Jf9la/EXU32jRwJCxeGAD/zTN2/LSJyKGmFtpnNM7PVZtZsZtd2sX6Qmd0VrX/WzGqS1v1LtHy1mZ2ZvdKL37PPhudlP/UU/Md/9P/nZvdVTQ08+CAMGgRnnRXmKV+9Ou6qRET6nx5D28zKgVuAs4AZwKVmNiNlsyuAbe5eC3wf+G607wzgEuBYYB7wo+h4cgidnfBv/7b/CV6LFsFnPxtvTbk2e3a4DPC974XHjs6cCV/4Qvi8d2/c1YmI9A/pDESbCzS7+zoAM7sTuABYmbTNBcAN0ed7gB+amUXL73T3d4D1ZtYcHe/p7JRfHNzDgKwlS8LrkUfC+0UXhcFaRxwRd4X5MWgQfPnL8Ld/C9ddB7fcAj/4ARx2GJxyCpx2GkyeDOPHw7hxMGZMYc4KJyLSV+n8kzcO2Jj0cwvwvu62cfd2M3sTqIyWP5Oy77g+V9tLnZ3wkY/k62zdcw+vzs7977t3w65d4bVjB7z5Zti2oiI8wvLWW+FznwujrEvNkUeG3//mm+Hxx8MfMY8+GuYtT2YWHk06dGgI9qFDwwj78vLwPZaXQ1lZ2M5s/+fEvsnHERHpjRtvhJNOyv950wntrv5JS53Hqrtt0tkXM7sSuBKguro6jZLS11+6VhOBUV4e3o84IgRN4jV1angAyHveA4MHx11t/zBqFHzsY+EF0NYGGzfCpk2hZ2LzZti5M/zh8/bb4X3fvvC87o4OaG/f/4dS8h9NybOwaUY2EemLzs54zptOaLcAE5J+Hg9s7mabFjOrAA4H2tLcF3e/FbgVoL6+Pmv/jJaVaX7rYjJqVHi95z1xVyIiEo90Ro8vAaaY2UQzG0gYWLYgZZsFwGXR54uBR93do+WXRKPLJwJTgMXZKV1ERKS09NjSjq5RXw08BJQDt7l7o5ndCDS4+wLgZ8Dt0UCzNkKwE213N2HQWjvwj+7ekaPfRUREpKiZ97OLevX19d7Q0BB3GSIiInljZkvdvb6n7TQjmoiISIHody1tM2sFXsnyYUcDb2T5mKVG32Hm9B1mTt9h5vQdZke2v8dj3L2qp436XWjngpk1pNPtIN3Td5g5fYeZ03eYOX2H2RHX96jucRERkQKh0BYRESkQpRLat8ZdQBHQd5g5fYeZ03eYOX2H2RHL91gS17RFRESKQam0tEVERAqeQltERKRAKLRFREQKhEJbRESkQCi0RQqEmZ1iZquTfn7ZzD7ch+PcYGa/ij5Xm9lOMyuPfv6zmX0ue1V3W8NnzOzJXJ9HpNgotEX6oa4C2d0XufvUbJ7H3Te4+zA9fU+kMCi0RURECoRCW6RAmNlpZtbSzbppZrbezC6Jfh5rZvPNrDVa/oVu9qsxMzeziqTFx5jZU2a2w8z+aGajk7Y/38wazWx71JU+PWnd9GjZ9mib85PWVZrZAjN7y8wWA5Mz/T5ESpFCW6TAmdls4I/ANe5+p5mVAb8DngfGAR8C/snMzkzzkH8DfBY4EhgIfDk6Tx3wG+CfgCpgIfA7MxtoZgOic/4x2u8a4NdmlujOvwXYA4wBLo9eItJLCm2RwnYKsAC4zN1/Hy2bA1S5+43uvtfd1wH/CVyS5jF/7u5N7r4buBt4b7T8E8AD7v6wu+8D/hcwBPgAcCIwDLg5OuejwO+BS6NBbhcB17v7LndfAfwy019cpBRV9LyJiPRjVwGPu/tjScuOAcaa2fakZeXAojSP+VrS57cJYQwwlqRn3bt7p5ltJLTm24GN7t6ZtO8r0boqwr81G1PWiUgvqaUtUtiuAqrN7PtJyzYC6939iKTXcHc/O8NzbSb8QQCAmRkwAdgUrZsQdc0nVEfrWgmhPiFlnYj0kkJbpP8aYGaDEy+67hnbAcwDTjWzm6Nli4G3zOyrZjbEzMrNbKaZzcmwnruBc8zsQ9E17C8B7wB/AZ4FdgFfMbMBZnYacB5wZ3Q72b3ADWY21MxmAJdlWItISVJoi/RfC4HdSa8butrI3bcDHwHOMrNvRSF5HuFa9HrgDeCnwOGZFOPuq4FPAT+IjnkecF50DXsvcD5wVrTuR8DfuvtL0e5XE7rZXwN+Afw8k1pESpUezSkiIlIg1NIWEREpEAptERGRAqHQFhERKRAKbRERkQLR7yZXGT16tNfU1MRdhoiISN4sXbr0DXev6mm7fhfaNTU1NDQ0xF2GiIhI3phZWrMEqntcRESkQCi0RURECkRaoW1m88xstZk1m9m1Xaw/1cyWmVm7mV2csq7DzJZHrwXZKlxERKTU9HhNO3qs3i2EaRJbgCVmtsDdVyZttgH4DNFzd1Psdvf3drFcREQKhTvcfz8cfTSceGLc1ZSsdAaizQWao2fyYmZ3AhcA74a2u78crevs6gAiIlLANm2CK6+EhQth+nRYubLnfSQn0ukeH8eBz8FtiZala7CZNZjZM2Z2Ya+qExGR+LjDbbfBscfCY4/Bhz8Mq1bByy/HXVnJSie0rYtlvXnKSLW71wN/A/yHmU0+6ARmV0bB3tDa2tqLQ4uISM5cfjlccQW85z3wwgvwwx+G5Q8+GG9dJSyd0G7hwIfXjyc88D4t7r45el8H/Bk4vottbnX3enevr6rq8d5yERHJtR074L/+K4T2Y49BbS3U1cGkSaGbXGKRTmgvAaaY2UQzGwhcAqQ1CtzMRprZoOjzaOAkkq6Fi4hIP/X009DZCZ/4BJRFUWEG55wDjzwCu3fHW1+J6jG03b2d8AD7h4BVwN3u3mhmN5rZ+QBmNsfMWoCPAz8xs8Zo9+lAg5k9DzwG3Jwy6lxERPqjJ56A8nJ4//sPXH722SGwH388nrpKXFrTmLr7QmBhyrLrkz4vIXSbp+73F2BWhjWKiEi+LVoEs2fDsGEHLv/gB2HIkNBFPm9ePLWVMM2IJiIiB3rnHXj2WTjllIPXDRkCZ5wBDzwQRpdLXim0RUTkQEuWhOA+9dSu1599NqxbB01N+a1LFNoiIpLiiSfC+8knd73+rLPCu0aR551CW0REDrRoUZhQpbKy6/UTJ4aZ0RTaeafQFhGR/To64Kmnuu8aTzjnnDCCfOfO/NQlgEJbRESSPf98mFilq0Foyc4+G/btC/dsS94otEVEZL/E9eyeQvukk2D48DCKXPJGoS0iIvstWhSuWY8/aOqNAw0cCKefrklW8kyhLSIigXsI7Z6uZyfMmgVr18LevbmtS96l0BYRkWD1amht7blrPGHq1DBwbe3a3NYl71Joi4hIkLienW5Le9q08L56dW7qkYMotEVEJFi0CI46KjyGMx1Tp4b3l17KXU1yAIW2iIgETzwRWtlm6W0/YgSMGaOWdh4ptEVEBLZuhQ0bYO7c3u03bZpa2nmk0BYREWhsDO8zZ/Zuv6lTQ2jriV95odAWEZH9oX3ssb3bb9o02L49jDqXnFNoi4hICO0RI3qeVCVVYgS5usjzQqEtIiIhtGfMSH8QWoJGkOeVQltEREJo9/Z6NkB1NQwerBHkeaLQFhEpdVu2hGvSvb2eDVBWtn8wmuScQltEpNT1dRBawtSpamnniUJbRKTUZRra06bB+vWwZ0/2apIuKbRFREpdYyMccUSY3awvpk6Fzk5obs5uXXIQhbaISKlrbAyt7N6OHE/Qg0PyRqEtIlLK3GHFir53jQPU1YV3DUbLOYW2iEgpe+012Latb7d7JQwbFiZlUUs75xTaIiKlLNNBaAl6cEheKLRFREpZtkNbDw7JKYW2iEgpa2yEyko48sjMjjN1KuzYEbrbJWcU2iIipSzTkeMJenBIXqQV2mY2z8xWm1mzmV3bxfpTzWyZmbWb2cUp6y4zszXR67JsFS4iIhnKxsjxhMSDQzQYLad6DG0zKwduAc4CZgCXmtmMlM02AJ8B7kjZdxTwTeB9wFzgm2Y2MvOyRUQkY5s2wVtvZSe0x42Dww5TSzvH0mlpzwWa3X2du+8F7gQuSN7A3V929xeAzpR9zwQedvc2d98GPAzMy0LdIiKSqcQgtExu90rQg0PyIp3QHgdsTPq5JVqWjrT2NbMrzazBzBpaW1vTPLSIiGQkWyPHExTaOZdOaHc1OiHdMf1p7evut7p7vbvXV1VVpXloERHJSGNjGDU+enR2jldXBxs2wDvvZOd4cpB0QrsFmJD083hgc5rHz2RfERHJpWwNQkuorQ2D29avz94x5QDphPYSYIqZTTSzgcAlwII0j/8Q8FEzGxkNQPtotExEROLkDitXZje0J08O72vXZu+YcoAeQ9vd24GrCWG7Crjb3RvN7EYzOx/AzOaYWQvwceAnZtYY7dsGfIsQ/EuAG6NlIiISpw0bYOfO7Le0QY/ozKGKdDZy94XAwpRl1yd9XkLo+u5q39uA2zKoUUREsi2bI8cTRo+GESMU2jmkGdFERErRihXhPZstbbPQRa7u8ZxRaIuIlKLGRhg7FkZmeb6r2lq1tHNIoS0iUooSc45nW21tGD3e3p79Y4uUw2AsAAAgAElEQVRCW0Sk5HR2Zn/keMLkySGwN27seVvpNYW2iEipWb8edu/O7iC0BI0gzymFtohIqcn29KXJFNo5pdAWESk1iZHjM1If2JgFY8bA4MEK7RxRaIuIlJrGRqiuDvdUZ1tZmW77yiGFtohIqcn2nOOpdNtXzii0RURKSXt7eHxmLgahJSRa2p2duTtHiVJoi4iUkrVrYe/e3Le09+yBV1/N3TlKlEJbRKSUJAah5bKlrRHkOaPQFhEpJY2NYY7w6dNzd47EIzoV2lmn0BYRKSWNjTBxIgwdmrtzVFdDRYVGkOeAQltEpJSsWJHbrnEIgT1xolraOaDQFhEpFXv3QlNTbgehJUyerNDOAYW2iEipaGoKt3zluqUNYTDa2rXgnvtzlRCFtohIqcjlnOOpamvhrbfgjTdyf64SotAWESkVjY1hmtGpU3N/Lo0gzwmFtohIqVixAqZMCQ/0yLXEvdoaQZ5VCm0RkVLR2JifrnEIo8fN1NLOMoW2iEgp2LMnBGg+BqEBDBoEEyYotLNMoS0iUgpWrgwP8MhXSxv2jyCXrFFoi4iUgiVLwvucOfk7px7RmXUKbRGRUrB4MYweDTU1+TvnlCnhlq+tW/N3ziKn0BYRKQWLF8PcuWFwWL4krp8nniwmGVNoi4gUux07wsjxuXPze16FdtYptEVEit3SpWE60XyH9rhxcMQR8OKL+T1vEVNoi4gUu8WLw3s+B6FB6IqfNUst7SxKK7TNbJ6ZrTazZjO7tov1g8zsrmj9s2ZWEy2vMbPdZrY8ev04u+WLiEiPFi8O04qOHp3/c8+cGUJbDw7Jih5D28zKgVuAs4AZwKVmNiNlsyuAbe5eC3wf+G7SurXu/t7odVWW6hYRkXQlBqHFYdYsePNN2LgxnvMXmXRa2nOBZndf5+57gTuBC1K2uQD4ZfT5HuBDZvkcoigiIl169dUQmHGFtgajZVU6oT0OSP4TqSVa1uU27t4OvAlURusmmtlzZva4mZ3S1QnM7EozazCzhtbW1l79AiIicgiJSVXiDm0NRsuKdEK7qxZz6sWJ7rZ5Fah29+OBLwJ3mNmIgzZ0v9Xd6929vqqqKo2SREQkLc8+C+XlcPzx8Zx/5EgYP16hnSXphHYLMCHp5/HA5u62MbMK4HCgzd3fcfetAO6+FFgL1GVatIiIpGnxYjjuOBgyJL4aEoPRJGPphPYSYIqZTTSzgcAlwIKUbRYAl0WfLwYedXc3s6poIBtmNgmYAqzLTukiInJInZ2hezyurvGEWbNg1SrYty/eOopAj6EdXaO+GngIWAXc7e6NZnajmZ0fbfYzoNLMmgnd4Inbwk4FXjCz5wkD1K5y97Zs/xIiItKFNWvCyO3+ENp794Z6JCMV6Wzk7guBhSnLrk/6vAf4eBf7zQfmZ1ijiIj0RWJSlfe9L946kkeQz0i9Y1h6QzOiiYgUq8WLYdgwmDYt3jqmTw+D4TQYLWMKbRGRYrV4MdTXh8CM0+DB4TGdGoyWMYW2iEgxeucdWL48/uvZCTNnqqWdBQptEZFitHx5GPzVX0J71ixYtw527Yq7koKm0BYRKUYPPghlZXDqqXFXEsycGR4asnJl3JUUNIW2iEgxuu8+OOkk6C+zTM6aFd7VRZ4RhbaISLF5+WV4/nm4IPXZTjGaNCnMyqbQzohCW0Sk2Nx/f3jvT6FdXh7u0dYI8owotEVEis3998Oxx0JtbdyVHGjWLLW0M6TQFhEpJm1t8MQT/auVnTBrFrz+enhJnyi0RUSKyQMPQEdH/wztU04J7w8/HG8dBUyhLSJSTO6/H8aODTOh9TcnnABHHgkLF/a8rXRJoS0iUiz27IE//AHOPz/co93flJXBWWeFGtvb466mIPXD/6oiItInjzwSZhy78MK4K+neOefAtm3wzDNxV1KQFNoiIsXivvtg+HA47bS4K+neRz8abv964IG4KylICm0RkWLQ0QELFoTu50GD4q6me4cfDiefrOvafaTQFhEpBs88A1u29O+u8YRzzoEXXoCNG+OupOAotEVEisH//t+ha/zss+OupGfnnBPe1druNYW2iEiha2iA3/4WvvSl0P3c302fDjU1uq7dBwptEZFCd911UFkJ//zPcVeSHrPQ2n7kkXCbmqRNoS0iUsieeAIeegiuvRZGjIi7mvSdfTa8/TY8/njclRQUhbaISKFyh69/HcaMgX/8x7ir6Z3TTw+P6lQXea8otEVECtVDD8GTT8I3vhECsJAMGQJnnBFC2z3uagqGQltEpBAlWtk1NXDFFXFX0zfnnAPr1sGyZXFXUjAU2iIiheiXvwxhd8MNMHBg3NX0zSc+ER4g8vnPay7yNCm0RUQKzX33wd/9XZhZ7FOfiruavhs1Cm65BZYuhe99L+5qCoJCW0SkkPzud/DXfx0ec/nAA2Ee70J28cXhdcMNsHJl3NX0ewptEZFCsXBhCLj3vjcMQiukW7wO5ZZbwmxul18e5lCXbim0RUT6u/Z2uO02+Ku/gpkzQ2AXwsxn6TrySPjBD+DZZ+H734+7mn4trdA2s3lmttrMms3s2i7WDzKzu6L1z5pZTdK6f4mWrzazM7NXuohIkXvnHfjP/4SpU8MI8eOPh4cfhpEj464s+y65BC64INy+9utfa2BaN3oMbTMrB24BzgJmAJea2YyUza4Atrl7LfB94LvRvjOAS4BjgXnAj6LjiYhIVzZtCgPNvvY1qK2FK68MU5QuWAB/+UsYvFWMzOD//T+YMiUMrps2DX76U9i7N+7K+pWKNLaZCzS7+zoAM7sTuABIHjFwAXBD9Pke4IdmZtHyO939HWC9mTVHx3s6O+X3wF1T5IlIdvQ0AYj7wa/OzvDq6Ajve/eGubb37Amt6G3boLV1/2vVKti8ORyvvBxOPTV0i3/4wyHUit2YMbB8Odx/P9x0Uxghf8MN8IEPwLhx+1+HHQYVFeE7qqiAspT2Zz6+q5kzYfTo3J8nRTqhPQ5IfuhpC/C+7rZx93YzexOojJY/k7LvuNQTmNmVwJUA1dXV6dbeM/cwVZ6ISH81YgRUVYXruqefDnPmwNy5YbBZoc1ylg1lZfCxj4Xngj/0EPzwh/D882EQ3q5dcVe33333he78PEsntLv6kyX1T87utklnX9z9VuBWgPr6+uzNZ2cGjz2WtcOJSInrqQVnduCrrCy0BsvKwmvQoPAaPDi8jxgR3uVgZjBvXnhBaITt2BF6InbvDte829th374De0HyNSXqzJn5OU+KdEK7BZiQ9PN4YHM327SYWQVwONCW5r65YwannZa304mISI6YhT9yiuU2tz5KZ/T4EmCKmU00s4GEgWULUrZZAFwWfb4YeNTdPVp+STS6fCIwBVicndJFRERKS48t7ega9dXAQ0A5cJu7N5rZjUCDuy8AfgbcHg00ayMEO9F2dxMGrbUD/+juunNeRESkD8z72SPR6uvrvaGhIe4yRERE8sbMlrp7fY/b9bfQNrNW4JUsH3Y08EaWj1lq9B1mTt9h5vQdZk7fYXZk+3s8xt2retqo34V2LphZQzp/wUj39B1mTt9h5vQdZk7fYXbE9T1q7nEREZECodAWEREpEKUS2rfGXUAR0HeYOX2HmdN3mDl9h9kRy/dYEte0RUREikGptLRFREQKnkJbRESkQCi0RURECoRCW0REpEAotEX6ITP7pJn9Mc/n/LGZfSNLx6o2s51mVh79/Gcz+1w2jh0d70Ezu6znLUWKi0aPixyCmb0MHAV0ALuAhcA17r6zj8erAdYDA9y9PTtVpnXelwm/Rzvhd1kJ/Bdwq7t39uFYn3P3P/Vinz8Dv3L3n/bmXNG+NwC17v6p3u4rUmzU0hbp2XnuPgyYDcwBrsvlyaJn0vd1XzOz7v6/Ps/dhwPHADcDXyU8oS+rMqlfRA5NoS2SJnffBDwIzAQws7FmtsDM2sys2cz+LrGtmc01swYze8vMXjezf49WPRG9b4+6j99vZp8xs6fM7Ptm1gbcEC17Mul4HzCzJWb2ZvT+gaR1fzazm8zsKeBtYFIPv8eb0SN1PwFcZmaJ3+cXZvY/o8+jzez3ZrY9+v0WmVmZmd0OVAO/i+r/ipnVmJmb2RVmtgF4NGlZcoBPNrPF0e9wv5mNis51mpm1JNdoZi+b2YfNbB7wNeAT0fmeT/qdPxd9LjOz68zsFTPbYmb/ZWaHR+sSdVxmZhvM7A0z+3oP/6lF+i2FtkiazGwCcDbwXLToN0ALMBa4GPi2mX0oWvd/gP/j7iOAycDd0fJTo/cj3H2Yuz8d/fw+YB1wJHBTynlHAQ8A/xeoBP4deMDMKpM2+zRwJTCcNJ+S5+6Lo/pP6WL1l6J1VYRu9a+FXfzTwAai3gd3/7ekfT4ITAfO7OaUfwtcTvi+2qPfp6ca/wB8G7grOt97utjsM9HrdMIfLMOAH6ZsczIwFfgQcL2ZTe/p3CL9kUJbpGf3mdl24EngcUI4TyAEwVfdfY+7Lwd+SghPgH1ArZmNdved7v5MD+fY7O4/cPd2d9+dsu4cYI273x6t/w3wEnBe0ja/cPfGaP2+Xvxum4FRXSzfB4whPC5wn7sv8p4HwNzg7ru6qD/hdndf4e67gG8Af50YqJahTwL/7u7rorEG/wJcktLK/1d33+3uzwPPA12Fv0i/p9AW6dmF7n6Eux/j7v8QhdJYoM3ddyRt9wowLvp8BVAHvBR1Z5/bwzk2HmLdWA5uPSefq6f9D2Uc0NbF8u8BzcAfzWydmV2bxrF6qiF5/SvAAMIziTOV+v28AlQQeggSXkv6/DahNS5ScBTaIn2zGRhlZsOTllUDmwDcfY27X0ro7v4ucI+ZHQZ011o9VCt2M2HwWLJ3z5XG/l0yszmE0H4ydZ2773D3L7n7JEKL/otJXf99+R0AJiR9ria05t8gjMofmlRXOaFbPt3jpn4/1YTu99d72E+k4Ci0RfrA3TcCfwG+Y2aDzew4Quv61wBm9ikzq4pup9oe7dYBtAKd9DBYLMVCoM7M/sbMKszsE8AM4Pd9qd3MRkQt/zsJt2G92MU255pZrZkZ8FZUe0e0+vVe1p/wKTObYWZDgRuBe9y9A2gCBpvZOWY2gDA6f1DSfq8DNYcYFf8b4J/NbKKZDWP/NfC83VInki8KbZG+uxSoIbT0fgt8090fjtbNAxrNbCdhUNol0bXvtwkDzZ6KRmaf2NNJ3H0rcC5hcNhW4CvAue7+Ri/r/Z2Z7SB0U3+dMKDts91sOwX4E7ATeBr4kbv/OVr3HeC6qP4v9+L8twO/IHRVDwa+AGE0O/APhDEBmwgt7+TR5P8dvW81s2VdHPe26NhPEO6B3wNc04u6RAqGJlcREREpEGppi4iIFAiFtoiISIFQaIuIiBQIhbaIiEiBUGiLiIgUiH73NJ7Ro0d7TU1N3GWIiIjkzdKlS99w96qetut3oV1TU0NDQ0PcZYiIiOSNmaX1oB91j4uIiBQIhbaIiEiBUGiLyAHaO9vp6OzoeUMRybt+d01bROKza+8uJv3fSWzZtYUhFUMYNnAYwwcN5+YP3czHj/143OWJlDyFtoi865mWZ9iyawuXv/dyKodWsnPvTuavms/Pl/9coS3SDyi0ReRdizYsoszK+P687zNi0AgA9nXs455V99DpnZR1+3RMEcmHtP4PNLN5ZrbazJrN7Nou1p9qZsvMrN3MLk5Z12Fmy6PXgmwVLiLZ9+SGJznuqOPeDWyAk6tPZvue7axsXRljZSICaYS2mZUDtwBnATOAS81sRspmG4DPAHd0cYjd7v7e6HV+hvWKSI7s69jHMy3PcEr1KQcsP6n6JCAEuojEK52W9lyg2d3Xufte4E7gguQN3P1ld38B6MxBjSKSB8tfW86ufbs4ufrkA5ZPHjmZow47iqc2PhVTZSKSkE5ojwM2Jv3cEi1L12AzazCzZ8zswl5VJyJ5k2hJp4a2mXFS9Uk8tUGhLRK3dELbuljmvThHtbvXA38D/IeZTT7oBGZXRsHe0Nra2otDi0i2LNqwiEkjJzF2+NiD1p004STWb1/P5h2bY6hMRBLSCe0WYELSz+OBtP/PdffN0fs64M/A8V1sc6u717t7fVVVj/Oli0iWuTtPbnjyoOvZCYnWt1rbIvFKJ7SXAFPMbKKZDQQuAdIaBW5mI81sUPR5NHASoCGoIv1M09YmWt9uPahrPOH4o49nSMUQXdcWiVmPoe3u7cDVwEPAKuBud280sxvN7HwAM5tjZi3Ax4GfmFljtPt0oMHMngceA252d4W2SD/T3fXshAHlA5g7bq5GkIvELK3JVdx9IbAwZdn1SZ+XELrNU/f7CzArwxpFJMcWbVjE6KGjmVo5tdttTq4+mZufvJmde3cybOCwPFYnIgma3khEeHLDk5xcfTJmXY07DU6acBId3sGzLc/msTIRSabQFilxr+54lbXb1nY7CC3h/RPej2G6ri0SI4W2SInr6Xp2whGDj2DmkTMV2iIxUmiLlLhFGxYxdMBQjj/6oLsxD3LShJN4euPTet62SEwU2iIl7skNT3Li+BMZUD6gx21Prj6ZHXt38OKWF/NQmYikUmiLlLC33nmL519/vsfr2QmJh4dokhWReCi0RUrYii0r6PRO5oydk9b2xxx+DGOHj+XplqdzXJmIdEWhLVLCmrY2ATB1dPf3ZyczM46tOpbVW1fnsiwR6YZCW6SENW1toqKsgpojatLep66yjqatTbj35rlBIpINCm2RErZ662omj5xMRVlakyMCIbTfeucttuzaksPKRKQrCm2REta0tSntrvGEusq6d/cVkfxSaIuUqE7vZM3WNdSNquvVfgptkfgotEVK1MY3N/JOxzvvhnC6jjn8GAaUDVBoi8RAoS1SohIjwHsb2uVl5dSOqqWpTaEtkm8KbZES1dvbvZIlRpCLSH4ptEVKVNPWJoYPHM5Rhx3V633rKutobmvWHOQieabQFilRTVubqKusO+QztLtTV1nH3o69bHhzQw4qE5HuKLRFStTqrat7fT07QSPIReKh0BYpQXva9/DK9lcU2iIFRqEtUoLWtq3FcaZW9n4QGsBRhx3F8IHDFdoieabQFilBibDta0vbzMIIct32JZJXCm2REpQI7SmVU/p8DN32JZJ/Cm2RErR662qOHnY0IwaN6PMx6irreGX7K+xp35PFykTkUBTaIiWoaWtTn69nJ9RV1uE4a9vWZqkqEemJQlukBCXu0c6ERpCL5J9CW6TEbNu9jda3WzMO7SmjwvVwhbZI/ii0RUpMpiPHEw4ffDhHHXaUQlskjxTaIiUmW6GdOIZu+xLJn7RC28zmmdlqM2s2s2u7WH+qmS0zs3Yzuzhl3WVmtiZ6XZatwkWkb5q2NlFu5UwaOSnjY+m2L5H86jG0zawcuAU4C5gBXGpmM1I22wB8BrgjZd9RwDeB9wFzgW+a2cjMyxaRvmpqa2LiyIkMLB+Y8bHqKuvYsmsLb+55MwuViUhP0mlpzwWa3X2du+8F7gQuSN7A3V929xeAzpR9zwQedvc2d98GPAzMy0LdItJHq9/o+4NCUiWOs6ZtTVaOJyKHlk5ojwM2Jv3cEi1LRyb7ikiWdXona9rWUDcqu6GtLnKR/EgntLt62K6nefy09jWzK82swcwaWltb0zy0iPTW5h2beXvf20wdndnEKgmTR07GMIW2SJ6kE9otwISkn8cDm9M8flr7uvut7l7v7vVVVVVpHlpEeuvdOcdH9X3O8WSDKgZRc0SNQlskT9IJ7SXAFDObaGYDgUuABWke/yHgo2Y2MhqA9tFomYjEIBGu2WppQ+giX711ddaOJyLd6zG03b0duJoQtquAu9290cxuNLPzAcxsjpm1AB8HfmJmjdG+bcC3CMG/BLgxWiYiMWja2sTQAUMZO3xs1o5ZV1nHmq1rcE/3qpmI9FVFOhu5+0JgYcqy65M+LyF0fXe1723AbRnUKCJZ0rS1iSmjplBm2ZtXqa6yjh17d/D6rtc5etjRWTuuiBxMM6KJlJBsPCgklUaQi+SPQlukROzr2Me6besU2iIFTKEtUiLWb19Ph3dkPbQnjJjAoPJBCm2RPFBoi5SIbD4oJFl5WTm1o2oV2iJ5oNAWKRG5Cu3EMRXaIrmn0BYpEU1bm6gcUsmoIaOyfuy6yjqa25rp6OzI+rFFZD+FtkiJaNraxJTK7MyElqquso59nft45c1XcnJ8EQkU2iIlIhe3eyVoBLlIfii0RUrArr272LRjU9ae7pVKoS2SHwptkRLQ3NYM5GYQGkDV0CoOH3S4QlskxxTaIiUglyPHAcxMI8hF8kChLVICEmFaO6o2Z+dQaIvknkJbpAQ0tTUxfsR4Dht4WM7OUVdZx4Y3N7B73+6cnUOk1Cm0RUpALkeOJ9RV1uE4a7etzel5REqZQlukBDRtbcrZyPEEjSAXyT2FtkiR2/r2Vtp2t+W8pT1lVJi4RaEtkjsKbZEil+uR4wnDBw1nzLAxCm2RHFJoixS5fIV24hwKbZHcUWiLFLmmrU1UlFVQc0RNzs+l0BbJLYW2SJFramti0shJDCgfkPNz1VXW0fp2K9t2b8v5uURKkUJbpMjl43avhMR51rStycv5REqNQlukiHV6J2u2rsn57V4Juu1LJLcU2iJFbNNbm9jdvjtvLe1JIydRZmUKbZEcUWiLFLF8jhwHGFg+kIlHTFRoi+SIQlukiDW2NgIwbfS0vJ2zrrKO1VtX5+18IqVEoS1SxJa9uoyjhx3NmOFj8nbOmUfOZGXrSvZ27M3bOUVKhUJbpIgte3UZs8fMzus5TxhzAns79rKydWVezytSChTaIkVq977drGxdyeyj8xvaiT8Slm5emtfzipSCtELbzOaZ2Wozazaza7tYP8jM7orWP2tmNdHyGjPbbWbLo9ePs1u+iHTnxS0v0uEdeW9pTx41meEDh7Ps1WV5Pa9IKajoaQMzKwduAT4CtABLzGyBuyf3fV0BbHP3WjO7BPgu8Ilo3Vp3f2+W6xaRHiRCM9+hXWZlHD/meJa9ptAWybZ0WtpzgWZ3X+fue4E7gQtStrkA+GX0+R7gQ2Zm2StTRHpr2avLGDVkFNWHV+f93CeMOYHnX3ue9s72vJ9bpJilE9rjgI1JP7dEy7rcxt3bgTeBymjdRDN7zsweN7NTujqBmV1pZg1m1tDa2tqrX0BEupYYhBbH38+zx8xmd/tuXnrjpbyfW6SYpRPaXf0f72lu8ypQ7e7HA18E7jCzEQdt6H6ru9e7e31VVVUaJYnIoezr2MeLW17k+KOPj+X8iS55XdcWya50QrsFmJD083hgc3fbmFkFcDjQ5u7vuPtWAHdfCqwF8jM1k0gJS9wnne/r2QlTK6cydMBQhbZIlqUT2kuAKWY20cwGApcAC1K2WQBcFn2+GHjU3d3MqqKBbJjZJGAKsC47pYtId+IahJZQXlbOe49+r0JbJMt6DO3oGvXVwEPAKuBud280sxvN7Pxos58BlWbWTOgGT9wWdirwgpk9TxigdpW7t2X7lxCRAy17dRnDBg6jdlRtbDXMPno2z732HJ3eGVsNIsWmx1u+ANx9IbAwZdn1SZ/3AB/vYr/5wPwMaxSRXlr22jKOP/p4yiy++ZNmj5nND5f8kDVb1zB19NTY6hApJpoRTaTIdHR2sPy15bF1jSecMPYEQIPRRLJJoS1SZJq2NvH2vrdjD+3po6czqHyQQlskixTaIkUm7kFoCQPKB3DcUcdpZjSRLFJoixSZZa8uY3DF4Lw+Q7s7s8fMZtmry3BPndpBRPpCoS1SZJa9tozjjjqOirK0xpnm1AljTmD7nu2s374+7lJEioJCW6SIuDvPvfpc3h/H2R3NjCaSXQptkSKyfvt63nznzdivZyfMPHImFWUVCm2RLFFoixSR/jIILWFQxSBmHjlToS2SJQptkSLy6PpHGTpgKDOPnBl3Ke86YcwJLNm8hI7OjrhLESl4Cm2RItHpnfz2pd9y9pSzGVQxKO5y3vXRyR+lbXcbT218Ku5SRAqeQlukSDy98Wle2/kaF02/KO5SDnD2lLMZXDGY+Ss1o7FIphTaIkXi3lX3MrB8IGdPOTvuUg4wbOAw5tXOY/6q+Xp4iEiGFNoiRcDdmb9qPh+Z9BFGDBoRdzkHuWj6RWzasYnFmxbHXYpIQVNoixSB5157jlfefIW/mv5XcZfSpfPqzmNA2QDuWXlP3KWIFDSFtkgRuHfVvZRbOedPPb/njWNw+ODD+cjkjzB/1XxNaSqSAYW2SBG4d9W9fLDmg4weOjruUrp18fSLeXn7y7pnWyQDCm2RAreqdRWr3ljFX03rn13jCedPPZ9yK1cXuUgGFNoiBe7eVfcCcOG0C2Ou5NAqh1ZyxsQzuGfVPeoiF+kjhbZIgbv3pXs5cfyJjBsxLu5SenTR9ItobmvmxS0vxl2KSEFSaIsUsMQ14v42oUp3Lpx2IWVWpolWRPpIoS1SwO5ccScAH5v2sZgrSc9Rw47ilOpT+O+V/60ucpE+UGiLFKiNb27k24u+zUcmfYTJoybHXU7aPjnrk6x6Y9W7f3CISPoU2iIFyN256oGr6PAOfnzuj+Mup1cuP/5yThx/Ilc/eDWv7Xwt7nJECopCW6QA3fHiHSxcs5CbzriJSSMnxV1Or5SXlfPzC37Orr27+PsH/l7d5CK9oNAWKTBbdm3hf/zhf3Di+BO5Zu41cZfTJ9NGT+Nbp3+L+166T93kIr2g0BYpMF948Avs2LuDn53/M8rLyuMup8+++P4vqptcpJcU2iIF5I4X7+Cuxrv4xqnfYEbVjLjLyUhyN/lVv79Kj+0USUNaoW1m88xstZk1m9m1XawfZGZ3ReufNbOapHX/Ei1fbWZnZq90kdKxZdcWPv3bT/PJez9J/dh6vnLSV+IuKSumjZ7GTWfcxP2r7+f9P3s/DZsb4i5JpF/rMbTNrBy4BTgLmAFcamapfxzwUEYAAAcpSURBVOJfAWxz91rg+8B3o31nAJcAxwLzgB9FxxORNHR6Jz9b9jOm/XAad60ILexFn13EwPKBcZeWNV98/xf51cd+xYY3NzD3P+fy97//e9p2t8Vdlki/VJHGNnOBZndfB2Bm/7+9+w2t6r7jOP7+5GYxzMasVDeCGqOgYBGhGpbugZrhGCJiYMhwVNpKaaFb92Abg8EeKN2DgmMI6wbVUfevbNr1gbuMDaFrS0fRphkyqbaFzHZt3J+2s4stnXFJvntwjjHGxBy5f8+9nxccOOfe3z33m2/Oud9zfud37zkKDADnprUZAPan888AP5Kk9PGjETEGvClpOF3fyfKEb9Y4JmOSD8c+5LX3X2PwwiCDFwY5OXKS8x+cZ1P3Jg7tOMTaJWtrHWbZSeKe9fewY80O9r+wn8cHH+fY2WNs6dnCxq6NbOzayIauDSxZuIQW+YqeNbcsRXsp8M605RGgb642ETEuaRS4I3381IzXVu0Hkidjks0/3VyttzO7QRBTX2m6Oj8RE0xMTjARE4xPjvPRlY8YvTzKpbFLBNe+/tR1Wxd9y/rYt2Ufe9bvafiC1dneycFtB9l7114OvHSAwQuDHH/9+HVtOto6WLRgER0LOmgrtFFQgUJLgYIKU/lJzhdAqOp/gzWPx7Y+xqYVm6r+vlmK9mxb/swvVs7VJstrkfQQ8BBAd3d3hpCya29tL+v6zG6VpKkCImmq0LS2tFJQgYVtC+lc0JlM7Z2sun0VfUv7cnEDkEpY/5n1PPWlpwAYvTzK6X+e5sy/znDxvxe5NHZparoyceW6A6CImDro8Xe/rdJqdRCdpWiPAMunLS8D/j5HmxFJrUAncDHja4mIw8BhgN7e3rLtbS1q4dl7ny3X6sysyjrbO+nv6ae/p7/WoZjVhSyHCq8AqyWtlNRGMrCsOKNNEbgvnd8FPBfJoW4R2J2OLl8JrAYGyxO6mZlZc5n3TDu9Rv0IcAIoAEci4qykR4GhiCgCTwK/TAeaXSQp7KTtniYZtDYOfC0iJir0t5iZmTU01du1n97e3hga8nc1zcyseUj6c0T0zteusYejmpmZNZC6O9OW9B7wtzKvdjHwfpnX2Wycw9I5h6VzDkvnHJZHufO4IiKWzNeo7op2JUgaytLtYHNzDkvnHJbOOSydc1getcqju8fNzMxywkXbzMwsJ5qlaB+udQANwDksnXNYOuewdM5hedQkj01xTdvMzKwRNMuZtpmZWe41TNGWtE3SG5KGJX1nlucXSDqWPv+ypJ7qR1n/MuTxm5LOSToj6Y+SVtQizno2Xw6ntdslKSR5JO8MWXIo6cvptnhW0q+qHWO9y7Avd0t6XtLpdH/eXos465mkI5LelfTqHM9L0g/THJ+RtKHiQUVE7ieSn1f9K7AKaAP+Atw5o81XgSfS+d3AsVrHXW9Txjx+HvhkOv+w83jrOUzbdQAvkty6trfWcdfTlHE7XA2cBm5Plz9d67jracqYw8PAw+n8ncBbtY673iZgM7ABeHWO57cDfyC5o+XdwMuVjqlRzrQ/CwxHxPmIuAIcBQZmtBkAfp7OPwNs1dUb79pV8+YxIp6PiI/TxVMkd26za7JsiwDfAw4Al6sZXE5kyeGDwI8j4gOAiHi3yjHWuyw5DGBROt/JLHdgbHYR8SLJ/TTmMgD8IhKngE9J6qpkTI1StJcC70xbHkkfm7VNRIwDo8AdVYkuP7LkcboHSI4y7Zp5cyjpLmB5RPyumoHlSJbtcA2wRtJLkk5J2la16PIhSw73A3skjQC/B75endAayq1+ZpYsy/2082C2M+aZw+KztGl2mXMkaQ/QC2ypaET5c9McSmoBDgL3VyugHMqyHbaSdJH3k/T2/EnSuoj4T4Vjy4ssOfwK8LOI+IGkz5HcqXFdRExWPryGUfW60ihn2iPA8mnLy7ixq2eqjaRWku6gm3V7NKMseUTSF4DvAjsjYqxKseXFfDnsANYBL0h6i+Q6WNGD0a6TdX/+bUT8LyLeBN4gKeKWyJLDB4CnASLiJNBO8nvall2mz8xyapSi/QqwWtJKSW0kA82KM9oUgfvS+V3Ac5GOJLAp8+Yx7do9RFKwfR3xRjfNYUSMRsTiiOiJiB6ScQE7I8L3o70my/58nGRQJJIWk3SXn69qlPUtSw7fBrYCSFpLUrTfq2qU+VcE7k1Hkd8NjEbEPyr5hg3RPR4R45IeAU6QjJo8EhFnJT0KDEVEEXiSpPtnmOQMe3ftIq5PGfP4feA24DfpOL63I2JnzYKuMxlzaDeRMYcngC9KOgdMAN+OiH/XLur6kjGH3wJ+IukbJF269/tE5nqSfk1yCWZxeu1/H/AJgIh4gmQswHZgGPgY2FvxmPw/MjMzy4dG6R43MzNreC7aZmZmOeGibWZmlhMu2mZmZjnhom1mZpYTLtpmZmY54aJtZmaWEy7aZmZmOfF/k28ySgqpJvkAAAAASUVORK5CYII=\n",
          "text/plain": "<Figure size 576x576 with 3 Axes>"
         },
         "metadata": {},
         "output_type": "display_data"
        }
       ]
      }
     },
     "8bd862324279453e87327991614d1b10": {
      "model_module": "@jupyter-widgets/base",
      "model_module_version": "1.0.0",
      "model_name": "LayoutModel",
      "state": {}
     },
     "90576b93b21a43b691f4a29b2f93f8db": {
      "model_module": "@jupyter-widgets/controls",
      "model_module_version": "1.2.0",
      "model_name": "VBoxModel",
      "state": {
       "_dom_classes": [
        "widget-interact"
       ],
       "children": [
        "IPY_MODEL_c23db713291f4d63a060bbc68cf1a71e",
        "IPY_MODEL_2ed5ea3919124e458ea3e253484cc445",
        "IPY_MODEL_a398672641054418b971b3d8817e986d",
        "IPY_MODEL_8bbbb483b93f4d5898040899fed0f254"
       ],
       "layout": "IPY_MODEL_48f2a471ccdb4d4cb9285620b0be55c0"
      }
     },
     "9b3cf9338c174078ac299d9fd92a8f56": {
      "model_module": "@jupyter-widgets/base",
      "model_module_version": "1.0.0",
      "model_name": "LayoutModel",
      "state": {}
     },
     "9e478cbef7f04b088ff6ae5b7ad1331c": {
      "model_module": "@jupyter-widgets/controls",
      "model_module_version": "1.2.0",
      "model_name": "IntSliderModel",
      "state": {
       "description": "n_samples",
       "layout": "IPY_MODEL_0969da8e345c4785809a7ad86720f556",
       "max": 30,
       "min": 1,
       "step": 5,
       "style": "IPY_MODEL_f02b8552bc2c47a780dded2aace2b41e",
       "value": 6
      }
     },
     "a330eeae5cee46789ca9a13b82f7ce25": {
      "model_module": "@jupyter-widgets/output",
      "model_module_version": "1.0.0",
      "model_name": "OutputModel",
      "state": {
       "layout": "IPY_MODEL_9b3cf9338c174078ac299d9fd92a8f56",
       "outputs": [
        {
         "data": {
          "image/png": "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\n",
          "text/plain": "<Figure size 576x576 with 3 Axes>"
         },
         "metadata": {},
         "output_type": "display_data"
        }
       ]
      }
     },
     "a398672641054418b971b3d8817e986d": {
      "model_module": "@jupyter-widgets/controls",
      "model_module_version": "1.2.0",
      "model_name": "FloatSliderModel",
      "state": {
       "description": "prior_theta",
       "layout": "IPY_MODEL_b96de0870e5f42188cd80e888251139d",
       "max": 1,
       "step": 0.1,
       "style": "IPY_MODEL_d0c16b9971b046039ebd937a45d718da",
       "value": 0.2
      }
     },
     "a9d2e25d057244e389106d45235b3c0d": {
      "model_module": "@jupyter-widgets/base",
      "model_module_version": "1.0.0",
      "model_name": "LayoutModel",
      "state": {}
     },
     "b96de0870e5f42188cd80e888251139d": {
      "model_module": "@jupyter-widgets/base",
      "model_module_version": "1.0.0",
      "model_name": "LayoutModel",
      "state": {}
     },
     "c23db713291f4d63a060bbc68cf1a71e": {
      "model_module": "@jupyter-widgets/controls",
      "model_module_version": "1.2.0",
      "model_name": "IntSliderModel",
      "state": {
       "description": "n_samples",
       "layout": "IPY_MODEL_4b3760314aa54bb585e02285d27ac300",
       "max": 30,
       "min": 1,
       "step": 5,
       "style": "IPY_MODEL_38cbdfcdca254ec9a5d1e37a9892ce47",
       "value": 20
      }
     },
     "d0c16b9971b046039ebd937a45d718da": {
      "model_module": "@jupyter-widgets/controls",
      "model_module_version": "1.2.0",
      "model_name": "SliderStyleModel",
      "state": {
       "description_width": ""
      }
     },
     "d391f68c4187434bb314d46b3477b153": {
      "model_module": "@jupyter-widgets/base",
      "model_module_version": "1.0.0",
      "model_name": "LayoutModel",
      "state": {}
     },
     "d42d395f3a35400995250f56a7ad5aa4": {
      "model_module": "@jupyter-widgets/controls",
      "model_module_version": "1.2.0",
      "model_name": "SliderStyleModel",
      "state": {
       "description_width": ""
      }
     },
     "f02b8552bc2c47a780dded2aace2b41e": {
      "model_module": "@jupyter-widgets/controls",
      "model_module_version": "1.2.0",
      "model_name": "SliderStyleModel",
      "state": {
       "description_width": ""
      }
     }
    },
    "version_major": 2,
    "version_minor": 0
   }
  }
 },
 "nbformat": 4,
 "nbformat_minor": 2
}
