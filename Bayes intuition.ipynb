{
 "cells": [
  {
   "cell_type": "markdown",
   "metadata": {},
   "source": [
    "# Intuition behind Bayesian inference"
   ]
  },
  {
   "cell_type": "markdown",
   "metadata": {},
   "source": [
    "<br><br>The goal of this notebook is to provide an intuitive explanation of Bayesian inference with the aid of both theoretical description and simulations. Let's write down directly the Bayes formula."
   ]
  },
  {
   "cell_type": "markdown",
   "metadata": {},
   "source": [
    "$$ P(\\theta \\mid X) = \\frac{P(X \\mid \\theta) \\, P(\\theta)}{P(X)} $$"
   ]
  },
  {
   "cell_type": "markdown",
   "metadata": {},
   "source": [
    "***"
   ]
  },
  {
   "cell_type": "markdown",
   "metadata": {},
   "source": [
    "The Bayes formula is made up of of four components as follows."
   ]
  },
  {
   "cell_type": "markdown",
   "metadata": {},
   "source": [
    "- $\n",
    "P(\\theta \\mid X):\n",
    "$ Postrior, which is the probability of parameters $ \\theta $ given the observation $ X$\n",
    "\n",
    "- $\n",
    "P(\\theta):\n",
    "$ Prior, which is the prior probability (initial belief) of parameters $ \\theta $\n",
    "\n",
    "- $\n",
    "\\begin{align}\n",
    "P(X \\mid \\theta) \n",
    "\\end{align}:\n",
    "$ Likelihood, which is the probability of obsevation $X$ given parameter $\\theta$.\n",
    "\n",
    "- $\n",
    "\\begin{align}\n",
    "P(X) \n",
    "\\end{align}:\n",
    "$ Evidence, which is the probability of obsevation $X$.\n"
   ]
  },
  {
   "cell_type": "markdown",
   "metadata": {},
   "source": [
    "In other words, it can be written as follows."
   ]
  },
  {
   "cell_type": "markdown",
   "metadata": {},
   "source": [
    "$$\n",
    "\\begin{align*}\n",
    "Postrior = \\frac{Likelihood \\times Prior}{Evidence}\n",
    "\\end{align*}\n",
    "$$"
   ]
  },
  {
   "cell_type": "markdown",
   "metadata": {},
   "source": [
    "<p style=\"text-align: justify\"> A critical fact to understand is that both posterior and prior calculate the probability of same thing ($\\theta$). However, prior is the probability without observation, while posterior is the probability after observation. So, posterior can be interpreted as an update to the probability of $\\theta$ (prior) and this update is done using the following coefficient.</p>"
   ]
  },
  {
   "cell_type": "markdown",
   "metadata": {},
   "source": [
    "$$  \\frac{P(X \\mid \\theta))}{P(X)} $$"
   ]
  },
  {
   "cell_type": "markdown",
   "metadata": {},
   "source": [
    "<p style='text-align: justify'>Also, note that after updating the prior with a new observation, the posterior can be the prior for the next round. Therefore, this update can be continued recursively as far as new evidences arrive.</p>"
   ]
  },
  {
   "cell_type": "markdown",
   "metadata": {},
   "source": [
    "____"
   ]
  },
  {
   "cell_type": "markdown",
   "metadata": {},
   "source": [
    "To better understand the concept let's consider the following example.\n",
    "\n",
    "<p style='text-align:justify'><p style='color:red'> Example:<p> Imagine we have a random sample of 10 persons and in that sample we count the number of persons who use an specific mobile application. Now we need to figure out which distribution is appropriate to model this likelihood. First, notice that the the outcome is discrete since the it is a count variable. Second, the sample size is fixed which follows automatically from the way the example is defined. Then, we need to have two assumptions. The first assumption is that if one person uses the app is independent from the fact that another person uses the app. This is a fairly reasonable assumptions if the people in the sample do not know each other. The second assumption is that the people in the sample are identically distributed. In other words, the chance that a person uses the app is the same as the chance that another person uses the app.</p>\n",
    "\n",
    "With reference to the above description, a <font color='blue'>binomial</font> distribution would be appropriate candidate to model this likelihood. In the following code, I am going to illustrate the core concept for Bayesian inference,updating prior using new evidences.\n"
   ]
  },
  {
   "cell_type": "code",
   "execution_count": 55,
   "metadata": {},
   "outputs": [],
   "source": [
    "from __future__ import print_function\n",
    "from ipywidgets import interact, interactive\n",
    "import ipywidgets as widgets"
   ]
  },
  {
   "cell_type": "code",
   "execution_count": 56,
   "metadata": {},
   "outputs": [],
   "source": [
    "import numpy as np\n",
    "from scipy.stats import binom,randint\n",
    "import matplotlib.pyplot as plt\n",
    "%matplotlib inline"
   ]
  },
  {
   "cell_type": "markdown",
   "metadata": {},
   "source": [
    "<p style='text-align:justify'> To create prior distribution we need to have a range of values for the distribution's parameter. In our example, the parameter can take any integer value from 0 to 10 because it is a count variable and sample size in chosen to be 10. However, since the \"stats\" library of of scipy requires the parameter to be a real number between 0 and 1, we generate parameters to be in [0,1] range. So, for example if we choose theta=0.1 and n=10 it means that one out of 10 people uses the app. Nonetheless, for the sake of illustration__ to plot more smooth curve__ the parameters are chosen to be more fine-grained in [0,1] instead of forcing to only use multiplication of 0.1.</p>"
   ]
  },
  {
   "cell_type": "code",
   "execution_count": 57,
   "metadata": {},
   "outputs": [],
   "source": [
    "n = 10\n",
    "params = np.linspace(0,1,100)"
   ]
  },
  {
   "cell_type": "markdown",
   "metadata": {},
   "source": [
    "<p style='text-align:justify'>First, let's generate a uniform prior distribution so that we can see the effect of likelihood on posterior vividly. To do this we can simply repeat a constant to get the same length as the length of params and then divide by its sum to get a proper distribution (sum to one). However, a more principled approach that can be used for any distribution is to generate samples based on the distribution and then at every parameter value multiply the probability of all samples to get the probability at that parameter value as follows.</>"
   ]
  },
  {
   "cell_type": "code",
   "execution_count": 58,
   "metadata": {},
   "outputs": [],
   "source": [
    "n_samples = 20\n",
    "prior_samples = np.random.randint(0,n+1,n_samples)"
   ]
  },
  {
   "cell_type": "code",
   "execution_count": 59,
   "metadata": {},
   "outputs": [],
   "source": [
    "prior = [ np.product(randint(0,n+1).pmf(prior_samples)) for theta in params ]\n",
    "prior = prior/np.sum(prior)"
   ]
  },
  {
   "cell_type": "code",
   "execution_count": 60,
   "metadata": {},
   "outputs": [
    {
     "data": {
      "text/plain": [
       "[<matplotlib.lines.Line2D at 0x7f6c7d1d1b00>]"
      ]
     },
     "execution_count": 60,
     "metadata": {},
     "output_type": "execute_result"
    },
    {
     "data": {
      "image/png": "[encoded data removed]",
      "text/plain": [
       "<Figure size 432x288 with 1 Axes>"
      ]
     },
     "metadata": {},
     "output_type": "display_data"
    }
   ],
   "source": [
    "plt.plot(params,prior)"
   ]
  },
  {
   "cell_type": "markdown",
   "metadata": {},
   "source": [
    "Now, it is time to generate samples based on likelihood distribution which is chosen to be binomial. "
   ]
  },
  {
   "cell_type": "code",
   "execution_count": 61,
   "metadata": {},
   "outputs": [],
   "source": [
    "true_theta = 0.8\n",
    "samples_lk = np.random.binomial(n,true_theta,n_samples)\n",
    "likelihood = [ np.product(binom(n,theta).pmf(samples_lk)) for theta in params ]"
   ]
  },
  {
   "cell_type": "markdown",
   "metadata": {},
   "source": [
    "\"true_theta\" is the true parameters that we want to estimate. So, we need to generate samples base on it. Also, note that likelihood is not a distribution; therefore, it is not needed to be normalized."
   ]
  },
  {
   "cell_type": "code",
   "execution_count": 62,
   "metadata": {},
   "outputs": [
    {
     "data": {
      "text/plain": [
       "[<matplotlib.lines.Line2D at 0x7f6c7d192a20>]"
      ]
     },
     "execution_count": 62,
     "metadata": {},
     "output_type": "execute_result"
    },
    {
     "data": {
      "image/png": "[encoded data removed]",
      "text/plain": [
       "<Figure size 432x288 with 1 Axes>"
      ]
     },
     "metadata": {},
     "output_type": "display_data"
    }
   ],
   "source": [
    "plt.plot(params,likelihood)"
   ]
  },
  {
   "cell_type": "markdown",
   "metadata": {},
   "source": [
    "<p style='text-align:justify'>Now, let's calculate the posterior from prior and likelihood using Bayes rule. Note that in this case we do not have to calculate p(x) (denominator of the Bayes formula) since we can calculate the product of likelihood and prior for all parameter values and then normalize by dividing by its sum.</p>"
   ]
  },
  {
   "cell_type": "code",
   "execution_count": 63,
   "metadata": {},
   "outputs": [],
   "source": [
    "postrior = [prior[i]*likelihood[i] for i in range(len(prior))]\n",
    "postrior /= np.sum(postrior)"
   ]
  },
  {
   "cell_type": "code",
   "execution_count": 64,
   "metadata": {},
   "outputs": [
    {
     "data": {
      "text/plain": [
       "[<matplotlib.lines.Line2D at 0x7f6c7c827278>]"
      ]
     },
     "execution_count": 64,
     "metadata": {},
     "output_type": "execute_result"
    },
    {
     "data": {
      "image/png": "[encoded data removed]",
      "text/plain": [
       "<Figure size 432x288 with 1 Axes>"
      ]
     },
     "metadata": {},
     "output_type": "display_data"
    }
   ],
   "source": [
    "plt.plot(params,postrior)"
   ]
  },
  {
   "cell_type": "markdown",
   "metadata": {},
   "source": [
    "Interesting! Posterior peaks exactly at where likelihood peaks. The reason is that because the prior is uniform, the posterior must follow what likelihood dictates. In other words, since we do not have any prejudice, only the data dictates what the posterior must be."
   ]
  },
  {
   "cell_type": "markdown",
   "metadata": {},
   "source": [
    "It is also worth to look at the effect of number of samples. In the previous example n_samples=20. Now let's increase it to 200. "
   ]
  },
  {
   "cell_type": "code",
   "execution_count": 65,
   "metadata": {},
   "outputs": [
    {
     "data": {
      "text/plain": [
       "Text(0.5,1,'Postrior Distribution')"
      ]
     },
     "execution_count": 65,
     "metadata": {},
     "output_type": "execute_result"
    },
    {
     "data": {
      "image/png": "[encoded data removed]",
      "text/plain": [
       "<Figure size 576x576 with 3 Axes>"
      ]
     },
     "metadata": {},
     "output_type": "display_data"
    }
   ],
   "source": [
    "n_samples = 200\n",
    "prior_samples = np.random.randint(0,n+1,n_samples)\n",
    "prior = [ np.product(randint(0,n+1).pmf(prior_samples)) for theta in params ]\n",
    "prior = prior/np.sum(prior)\n",
    "true_theta = 0.8\n",
    "samples_lk = np.random.binomial(n,true_theta,n_samples)\n",
    "likelihood = [ np.product(binom(n,theta).pmf(samples_lk)) for theta in params ]\n",
    "postrior = [prior[i]*likelihood[i] for i in range(len(prior))]\n",
    "postrior /= np.sum(postrior)\n",
    "\n",
    "fix,axes = plt.subplots(3,1,sharex=True,figsize=(8,8))\n",
    "\n",
    "axes[0].plot(params,prior,'b')\n",
    "axes[0].set_title(\"Prior Distribution\")\n",
    "axes[1].plot(params,likelihood/np.sum(likelihood),'r')\n",
    "axes[1].set_title(\"Likelihood\")\n",
    "axes[2].plot(params,postrior,'g')\n",
    "axes[2].set_title(\"Postrior Distribution\")"
   ]
  },
  {
   "cell_type": "markdown",
   "metadata": {},
   "source": [
    "Fantastic! As the number of samples grow the likelihood and distributions narow down. The intuition is that more data makes them more confident about the actual parameter value. "
   ]
  },
  {
   "cell_type": "markdown",
   "metadata": {},
   "source": [
    "Now, it is time to put everything together in an interactive code block so that you can change the value of <font color='blue'>true_theta</font> and <font color='blue'>n_samples</font> interactively and see the effet."
   ]
  },
  {
   "cell_type": "code",
   "execution_count": 66,
   "metadata": {},
   "outputs": [],
   "source": [
    "def BayesRule(n_samples=6,true_theta=.5):\n",
    "\n",
    "    prior_samples = np.random.randint(0,n+1,n_samples)\n",
    "    prior = [ np.product(randint(0,n+1).pmf(prior_samples)) for theta in params ]\n",
    "    prior = prior/np.sum(prior)\n",
    "    samples_lk = np.random.binomial(n,true_theta,n_samples)\n",
    "    likelihood = [ np.product(binom(n,theta).pmf(samples_lk)) for theta in params ]\n",
    "    postrior = [prior[i]*likelihood[i] for i in range(len(prior))]\n",
    "    postrior /= np.sum(postrior)\n",
    "\n",
    "    fix,axes = plt.subplots(3,1,sharex=True,figsize=(8,8))\n",
    "\n",
    "    axes[0].plot(params,prior,'b')\n",
    "    axes[0].set_title(\"Prior Distribution\")\n",
    "    axes[1].plot(params,likelihood/np.sum(likelihood),'r')\n",
    "    axes[1].set_title(\"Likelihood\")\n",
    "    axes[2].plot(params,postrior,'g')\n",
    "    axes[2].set_title(\"Postrior Distribution\")"
   ]
  },
  {
   "cell_type": "code",
   "execution_count": 67,
   "metadata": {},
   "outputs": [
    {
     "name": "stdout",
     "output_type": "stream",
     "text": [
      "(IntSlider(value=6, description='n_samples', max=30, min=1, step=5), FloatSlider(value=0.5, description='true_theta', max=1.0), Output())\n"
     ]
    },
    {
     "data": {
      "application/vnd.jupyter.widget-view+json": {
       "model_id": "c95a5546d3344e4c822ad2697e456b7c",
       "version_major": 2,
       "version_minor": 0
      },
      "text/plain": [
       "interactive(children=(IntSlider(value=6, description='n_samples', max=30, min=1, step=5), FloatSlider(value=0.…"
      ]
     },
     "metadata": {},
     "output_type": "display_data"
    }
   ],
   "source": [
    "interactive_plot = interactive(BayesRule,n_samples=(1,30,5),true_theta=(0,1,.1))\n",
    "print(interactive_plot.children)\n",
    "output = interactive_plot.children[-1]\n",
    "interactive_plot"
   ]
  },
  {
   "cell_type": "markdown",
   "metadata": {},
   "source": [
    "Now, let's change prior from uniform to binomial so that we can get a sense of the prior effect as well. "
   ]
  },
  {
   "cell_type": "code",
   "execution_count": 68,
   "metadata": {},
   "outputs": [
    {
     "data": {
      "text/plain": [
       "Text(0.5,1,'Postrior Distribution')"
      ]
     },
     "execution_count": 68,
     "metadata": {},
     "output_type": "execute_result"
    },
    {
     "data": {
      "image/png": "[encoded data removed]",
      "text/plain": [
       "<Figure size 576x576 with 3 Axes>"
      ]
     },
     "metadata": {},
     "output_type": "display_data"
    }
   ],
   "source": [
    "n_samples = 50\n",
    "prior_theta = 0.2\n",
    "prior_samples = np.random.binomial(n,prior_theta,n_samples)\n",
    "prior = [ np.product(binom(n,theta).pmf(prior_samples)) for theta in params ]\n",
    "prior = prior/np.sum(prior)\n",
    "prior = prior/np.sum(prior)\n",
    "true_theta = 0.8\n",
    "samples_lk = np.random.binomial(n,true_theta,n_samples)\n",
    "likelihood = [ np.product(binom(n,theta).pmf(samples_lk)) for theta in params ]\n",
    "postrior = [prior[i]*likelihood[i] for i in range(len(prior))]\n",
    "postrior /= np.sum(postrior)\n",
    "\n",
    "fix,axes = plt.subplots(3,1,sharex=True,figsize=(8,8))\n",
    "\n",
    "axes[0].plot(params,prior,'b')\n",
    "axes[0].set_title(\"Prior Distribution\")\n",
    "axes[1].plot(params,likelihood/np.sum(likelihood),'r')\n",
    "axes[1].set_title(\"Likelihood\")\n",
    "axes[2].plot(params,postrior,'g')\n",
    "axes[2].set_title(\"Postrior Distribution\")"
   ]
  },
  {
   "cell_type": "markdown",
   "metadata": {},
   "source": [
    "<p style='text-align:justify'> Great! Prior's parameter is chosen to be 0.2. It means that we belive 2 out ot 10 people use the app. But, samples (red plot) show something different. It is saying that based on the data 8 of 10 people use the app. Look at postrior! It is an updated verson of prior by the force of data (likelihood). It lies between prior and likelihood.</>"
   ]
  },
  {
   "cell_type": "markdown",
   "metadata": {},
   "source": [
    "The following is an interactive code block so that you can see the effect of three parameters:\n",
    "- Prior's parameter (prior_theta)\n",
    "- likelihood parameter (true_theta)\n",
    "- n_samples"
   ]
  },
  {
   "cell_type": "code",
   "execution_count": 69,
   "metadata": {},
   "outputs": [],
   "source": [
    "def BayesRule(n_samples=20,true_theta=0.8,prior_theta=0.2):\n",
    "\n",
    "    prior_samples = np.random.binomial(n,prior_theta,n_samples)\n",
    "    prior = [ np.product(binom(n,theta).pmf(prior_samples)) for theta in params ]\n",
    "    prior = prior/np.sum(prior)\n",
    "    samples_lk = np.random.binomial(n,true_theta,n_samples)\n",
    "    likelihood = [ np.product(binom(n,theta).pmf(samples_lk)) for theta in params ]\n",
    "    postrior = [prior[i]*likelihood[i] for i in range(len(prior))]\n",
    "    postrior /= np.sum(postrior)\n",
    "\n",
    "    fix,axes = plt.subplots(3,1,sharex=True,figsize=(8,8))\n",
    "\n",
    "    axes[0].plot(params,prior,'b')\n",
    "    axes[0].set_title(\"Prior Distribution\")\n",
    "    axes[1].plot(params,likelihood/np.sum(likelihood),'r')\n",
    "    axes[1].set_title(\"Likelihood\")\n",
    "    axes[2].plot(params,postrior,'g')\n",
    "    axes[2].set_title(\"Postrior Distribution\")"
   ]
  },
  {
   "cell_type": "code",
   "execution_count": 70,
   "metadata": {},
   "outputs": [
    {
     "name": "stdout",
     "output_type": "stream",
     "text": [
      "(IntSlider(value=20, description='n_samples', max=30, min=1, step=5), FloatSlider(value=0.8, description='true_theta', max=1.0), FloatSlider(value=0.2, description='prior_theta', max=1.0), Output())\n"
     ]
    },
    {
     "data": {
      "application/vnd.jupyter.widget-view+json": {
       "model_id": "68aa3b6d8837415b8b34841146dc0b64",
       "version_major": 2,
       "version_minor": 0
      },
      "text/plain": [
       "interactive(children=(IntSlider(value=20, description='n_samples', max=30, min=1, step=5), FloatSlider(value=0…"
      ]
     },
     "metadata": {},
     "output_type": "display_data"
    }
   ],
   "source": [
    "interactive_plot = interactive(BayesRule,n_samples=(1,30,5),true_theta=(0,1,.1),prior_theta=(0,1,0.1))\n",
    "print(interactive_plot.children)\n",
    "output = interactive_plot.children[-1]\n",
    "interactive_plot"
   ]
  },
  {
   "cell_type": "code",
   "execution_count": null,
   "metadata": {},
   "outputs": [],
   "source": []
  }
 ],
 "metadata": {
  "kernelspec": {
   "display_name": "Python 3",
   "language": "python",
   "name": "python3"
  },
  "language_info": {
   "codemirror_mode": {
    "name": "ipython",
    "version": 3
   },
   "file_extension": ".py",
   "mimetype": "text/x-python",
   "name": "python",
   "nbconvert_exporter": "python",
   "pygments_lexer": "ipython3",
   "version": "3.6.5"
  }
 },
 "nbformat": 4,
 "nbformat_minor": 2
}
